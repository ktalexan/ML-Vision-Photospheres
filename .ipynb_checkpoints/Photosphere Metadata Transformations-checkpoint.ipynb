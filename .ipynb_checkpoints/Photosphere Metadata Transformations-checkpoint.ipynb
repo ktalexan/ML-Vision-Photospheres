{
 "cells": [
  {
   "cell_type": "markdown",
   "metadata": {},
   "source": [
    "# <font color=brown>LIDAR Photospheres Metadata Transformations</color>"
   ]
  },
  {
   "cell_type": "markdown",
   "metadata": {},
   "source": [
    "## <font color=brown>Preliminaries and Libraries</font>\n",
    "***"
   ]
  },
  {
   "cell_type": "code",
   "execution_count": 1,
   "metadata": {},
   "outputs": [
    {
     "ename": "ModuleNotFoundError",
     "evalue": "No module named 'xlsxwriter'",
     "output_type": "error",
     "traceback": [
      "\u001b[1;31m---------------------------------------------------------------------------\u001b[0m",
      "\u001b[1;31mModuleNotFoundError\u001b[0m                       Traceback (most recent call last)",
      "\u001b[1;32m<ipython-input-1-dfb15654bba2>\u001b[0m in \u001b[0;36m<module>\u001b[1;34m\u001b[0m\n\u001b[0;32m      4\u001b[0m \u001b[1;32mimport\u001b[0m \u001b[0mnumpy\u001b[0m \u001b[1;32mas\u001b[0m \u001b[0mnp\u001b[0m\u001b[1;33m\u001b[0m\u001b[1;33m\u001b[0m\u001b[0m\n\u001b[0;32m      5\u001b[0m \u001b[1;32mfrom\u001b[0m \u001b[0mdecimal\u001b[0m \u001b[1;32mimport\u001b[0m \u001b[0mDecimal\u001b[0m\u001b[1;33m\u001b[0m\u001b[1;33m\u001b[0m\u001b[0m\n\u001b[1;32m----> 6\u001b[1;33m \u001b[1;32mimport\u001b[0m \u001b[0mxlsxwriter\u001b[0m \u001b[1;32mas\u001b[0m \u001b[0mxlw\u001b[0m\u001b[1;33m\u001b[0m\u001b[1;33m\u001b[0m\u001b[0m\n\u001b[0m",
      "\u001b[1;31mModuleNotFoundError\u001b[0m: No module named 'xlsxwriter'"
     ]
    }
   ],
   "source": [
    "import os\n",
    "import pandas as pd\n",
    "import matplotlib.pyplot as plt\n",
    "import numpy as np\n",
    "from decimal import Decimal\n",
    "import xlsxwriter as xlw\n",
    "from datetime import datetime, timedelta\n",
    "import time\n",
    "from tqdm import tqdm\n",
    "from IPython.display import display"
   ]
  },
  {
   "cell_type": "code",
   "execution_count": 4,
   "metadata": {},
   "outputs": [],
   "source": [
    "jupyterPath = os.getcwd()\n",
    "metadataFolder = \"PhotosphereMetadata\"\n",
    "metadataPath = os.path.join(jupyterPath, metadataFolder)"
   ]
  },
  {
   "cell_type": "code",
   "execution_count": 7,
   "metadata": {},
   "outputs": [
    {
     "data": {
      "text/plain": [
       "['ocpw0019_area01_2018337_001_LB5Camera0deg.csv',\n",
       " 'ocpw0019_area01_2018338_001_LB5Camera0deg.csv',\n",
       " 'ocpw0019_area01_2018338_002_LB5Camera0deg.csv']"
      ]
     },
     "execution_count": 7,
     "metadata": {},
     "output_type": "execute_result"
    }
   ],
   "source": [
    "os.listdir(metadataPath)"
   ]
  },
  {
   "cell_type": "code",
   "execution_count": 11,
   "metadata": {},
   "outputs": [
    {
     "data": {
      "text/plain": [
       "['C:\\\\Users\\\\OCPWAlexandridisK\\\\source\\\\repos\\\\ktalexan\\\\ML-Vision-Photospheres\\\\PhotosphereMetadata\\\\ocpw0019_area01_2018337_001_LB5Camera0deg.csv',\n",
       " 'C:\\\\Users\\\\OCPWAlexandridisK\\\\source\\\\repos\\\\ktalexan\\\\ML-Vision-Photospheres\\\\PhotosphereMetadata\\\\ocpw0019_area01_2018338_001_LB5Camera0deg.csv',\n",
       " 'C:\\\\Users\\\\OCPWAlexandridisK\\\\source\\\\repos\\\\ktalexan\\\\ML-Vision-Photospheres\\\\PhotosphereMetadata\\\\ocpw0019_area01_2018338_002_LB5Camera0deg.csv']"
      ]
     },
     "execution_count": 11,
     "metadata": {},
     "output_type": "execute_result"
    }
   ],
   "source": [
    "from glob import glob\n",
    "metafilePaths = glob(os.path.join(metadataPath, '*.csv'))\n",
    "metafilePaths"
   ]
  },
  {
   "cell_type": "code",
   "execution_count": null,
   "metadata": {},
   "outputs": [],
   "source": [
    "xlMetadata = pd.read_excel(metadata, sheet_name=0)\n",
    "xlMetaImg = xlMetadata.loc[xlMetadata['Filename'] == imgName]\n",
    "xlcols = xlMetaImg.iloc[0]"
   ]
  }
 ],
 "metadata": {
  "kernelspec": {
   "display_name": "Python 3",
   "language": "python",
   "name": "python3"
  },
  "language_info": {
   "codemirror_mode": {
    "name": "ipython",
    "version": 3
   },
   "file_extension": ".py",
   "mimetype": "text/x-python",
   "name": "python",
   "nbconvert_exporter": "python",
   "pygments_lexer": "ipython3",
   "version": "3.6.8"
  }
 },
 "nbformat": 4,
 "nbformat_minor": 2
}
