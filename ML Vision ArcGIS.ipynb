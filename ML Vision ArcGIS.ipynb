{
 "cells": [
  {
   "cell_type": "markdown",
   "metadata": {},
   "source": [
    "***\n",
    "# **<font color = 'brown'>Azure Cognitive Vision ArcGIS Online Functions</font>**\n",
    "***"
   ]
  },
  {
   "cell_type": "markdown",
   "metadata": {},
   "source": [
    "## **Preliminaries and Libraries**\n",
    "---"
   ]
  },
  {
   "cell_type": "markdown",
   "metadata": {},
   "source": [
    "Import the required libraries for the project"
   ]
  },
  {
   "cell_type": "code",
   "execution_count": 150,
   "metadata": {},
   "outputs": [],
   "source": [
    "import os, io, geojson, json, http.client, requests, time, tqdm\n",
    "from getpass import getpass\n",
    "from datetime import datetime\n",
    "from arcgis.gis import GIS\n",
    "from arcgis.features import FeatureLayerCollection\n",
    "from azure.storage.blob import BlockBlobService\n",
    "from PIL import Image\n",
    "from tqdm import tqdm\n",
    "from ipywidgets import widgets\n",
    "from IPython.display import display\n",
    "http.client._MAXHEADERS = 5000"
   ]
  },
  {
   "cell_type": "markdown",
   "metadata": {},
   "source": [
    "Define working directory and project path"
   ]
  },
  {
   "cell_type": "code",
   "execution_count": 151,
   "metadata": {},
   "outputs": [],
   "source": [
    "computer = os.environ['COMPUTERNAME']\n",
    "if computer == \"SRVYGS046C\":\n",
    "    prjPath = r\"C:\\Users\\OCPWAlexandridisK\\source\\repos\\ktalexan\\ML-Vision-Photospheres\"\n",
    "elif computer == \"DRK01\":\n",
    "    prjPath = r\"C:\\Users\\ktale\\source\\repos\\ktalexan\\ML-Vision-Photospheres\"\n",
    "os.chdir(prjPath)"
   ]
  },
  {
   "cell_type": "markdown",
   "metadata": {},
   "source": [
    "## **Set global defaults and account access for the project**\n",
    "---"
   ]
  },
  {
   "cell_type": "markdown",
   "metadata": {},
   "source": [
    "### **<font color = 'green'>Azure Blob Storage</font>**"
   ]
  },
  {
   "cell_type": "markdown",
   "metadata": {},
   "source": [
    "Setup account information for the Azure Blob Storage containing the photosphere cardinal (tagged) images.\n",
    "The images were generated from the previous process in the *<font color='blue'>AzureCognitiveVisionRest.py'</font>* file."
   ]
  },
  {
   "cell_type": "markdown",
   "metadata": {},
   "source": [
    "Setup account and key for the Azure blob storage containing the photosphere images."
   ]
  },
  {
   "cell_type": "code",
   "execution_count": 152,
   "metadata": {},
   "outputs": [],
   "source": [
    "with open('credentialsAzure.json') as f:\n",
    "    azcred = json.load(f)\n",
    "    account_name = azcred['account']\n",
    "    account_key = azcred['key']"
   ]
  },
  {
   "cell_type": "code",
   "execution_count": 153,
   "metadata": {},
   "outputs": [],
   "source": [
    "blobService = BlockBlobService(account_name, account_key)"
   ]
  },
  {
   "cell_type": "code",
   "execution_count": 154,
   "metadata": {},
   "outputs": [],
   "source": [
    "blobBaseUri = 'https://{}.blob.core.windows.net'.format(account_name)"
   ]
  },
  {
   "cell_type": "markdown",
   "metadata": {},
   "source": [
    "> Function: **get_blob_list**"
   ]
  },
  {
   "cell_type": "code",
   "execution_count": 155,
   "metadata": {},
   "outputs": [],
   "source": [
    "def get_blob_list(containerName):\n",
    "    \"\"\"Lists the blobs in the container\n",
    "    This function generates a list of blobs (images) that exist within an Azure blob storage container.\n",
    "    \n",
    "    Arguments\n",
    "        containerName: the name of the Azure blob storage container.\n",
    "        \n",
    "    Output\n",
    "        blobList: the list of blobs (images) in the container\n",
    "    \"\"\"\n",
    "    blobList = []\n",
    "    generator = blobService.list_blobs(containerName)\n",
    "    for blob in tqdm(generator):\n",
    "        blobList.append(blob)\n",
    "    return blobList"
   ]
  },
  {
   "cell_type": "markdown",
   "metadata": {},
   "source": [
    "Generate the blob image list for the 'cardinal' storage container"
   ]
  },
  {
   "cell_type": "code",
   "execution_count": 156,
   "metadata": {},
   "outputs": [
    {
     "name": "stderr",
     "output_type": "stream",
     "text": [
      "\n",
      "0it [00:00, ?it/s]\n",
      "3232it [00:00, 646601.03it/s]"
     ]
    }
   ],
   "source": [
    "blobList = get_blob_list('cardinal')"
   ]
  },
  {
   "cell_type": "markdown",
   "metadata": {},
   "source": [
    "### **<font color = 'green'>ArcGIS Online</font>**"
   ]
  },
  {
   "cell_type": "markdown",
   "metadata": {},
   "source": [
    "Get the account and token information for the ArcGIS online account"
   ]
  },
  {
   "cell_type": "code",
   "execution_count": 161,
   "metadata": {},
   "outputs": [
    {
     "name": "stdin",
     "output_type": "stream",
     "text": [
      " ··········\n"
     ]
    }
   ],
   "source": [
    "userArcGIS = 'ktalexan'\n",
    "pswArcGIS = getpass()"
   ]
  },
  {
   "cell_type": "markdown",
   "metadata": {},
   "source": [
    "Create a gis object for the user 'ktalexan'"
   ]
  },
  {
   "cell_type": "code",
   "execution_count": 162,
   "metadata": {},
   "outputs": [],
   "source": [
    "gis = GIS('https://www.arcgis.com', userArcGIS, pswArcGIS)"
   ]
  },
  {
   "cell_type": "markdown",
   "metadata": {},
   "source": [
    "Get the token for the account"
   ]
  },
  {
   "cell_type": "code",
   "execution_count": 163,
   "metadata": {},
   "outputs": [],
   "source": [
    "tokenUrl = 'https://www.arcgis.com/sharing/rest/generateToken'\n",
    "params = {'f': 'pjson', 'username': userArcGIS, 'password': pswArcGIS, 'referer': 'https://www.arcgis.com', 'expiration': str(525600)}\n",
    "response = requests.post(tokenUrl, data = params, verify = True)\n",
    "token = response.json()['token']"
   ]
  },
  {
   "cell_type": "markdown",
   "metadata": {},
   "source": [
    "Define user"
   ]
  },
  {
   "cell_type": "code",
   "execution_count": 164,
   "metadata": {},
   "outputs": [
    {
     "data": {
      "text/html": [
       "<div class=\"9item_container\" style=\"height: auto; overflow: hidden; border: 1px solid #cfcfcf; border-radius: 2px; background: #f6fafa; line-height: 1.21429em; padding: 10px;\">\n",
       "                    <div class=\"item_left\" style=\"width: 210px; float: left;\">\n",
       "                       <a href='https://OCPW.maps.arcgis.com/home/user.html?user=ktalexan' target='_blank'>\n",
       "                        <img src='data:image/png;base64,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' width='200' height='133' class=\"itemThumbnail\">\n",
       "                       </a>\n",
       "                    </div>\n",
       "\n",
       "                    <div class=\"item_right\" style=\"float: none; width: auto; overflow: hidden;\">\n",
       "                        <a href='https://OCPW.maps.arcgis.com/home/user.html?user=ktalexan' target='_blank'><b>Kostas Alexandridis</b>\n",
       "                        </a>\n",
       "                        <br/><br/><b>Bio</b>: \n",
       "                        <br/><b>First Name</b>: Kostas\n",
       "                        <br/><b>Last Name</b>: Alexandridis\n",
       "                        <br/><b>Username</b>: ktalexan\n",
       "                        <br/><b>Joined</b>: December 27, 2018\n",
       "\n",
       "                    </div>\n",
       "                </div>\n",
       "                "
      ],
      "text/plain": [
       "<User username:ktalexan>"
      ]
     },
     "execution_count": 164,
     "metadata": {},
     "output_type": "execute_result"
    }
   ],
   "source": [
    "me = gis.users.me\n",
    "me"
   ]
  },
  {
   "cell_type": "markdown",
   "metadata": {},
   "source": [
    "Get user groups for the user"
   ]
  },
  {
   "cell_type": "code",
   "execution_count": 165,
   "metadata": {},
   "outputs": [
    {
     "name": "stdout",
     "output_type": "stream",
     "text": [
      "Member of 4 groups\n"
     ]
    },
    {
     "data": {
      "text/html": [
       "<div class=\"9item_container\" style=\"height: auto; overflow: hidden; border: 1px solid #cfcfcf; border-radius: 2px; background: #f6fafa; line-height: 1.21429em; padding: 10px;\">\n",
       "                    <div class=\"item_left\" style=\"width: 210px; float: left;\">\n",
       "                       <a href='https://OCPW.maps.arcgis.com/home/group.html?id=17343349e1e14288b0d85bf899d64876' target='_blank'>\n",
       "                        <img src='https://OCPW.maps.arcgis.com/home/images/group-no-image.png' class=\"itemThumbnail\">\n",
       "                       </a>\n",
       "                    </div>\n",
       "\n",
       "                    <div class=\"item_right\" style=\"float: none; width: auto; overflow: hidden;\">\n",
       "                        <a href='https://OCPW.maps.arcgis.com/home/group.html?id=17343349e1e14288b0d85bf899d64876' target='_blank'><b>OC CA</b>\n",
       "                        </a>\n",
       "                        <br/>\n",
       "                        <br/><b>Summary</b>: None\n",
       "                        <br/><b>Description</b>: Community Analyst Project Group\n",
       "                        <br/><b>Owner</b>: ktalexan\n",
       "                        <br/><b>Created</b>: February 15, 2019\n",
       "\n",
       "                    </div>\n",
       "                </div>\n",
       "                "
      ],
      "text/plain": [
       "<Group title:\"OC CA\" owner:ktalexan>"
      ]
     },
     "metadata": {},
     "output_type": "display_data"
    },
    {
     "data": {
      "text/html": [
       "<div class=\"9item_container\" style=\"height: auto; overflow: hidden; border: 1px solid #cfcfcf; border-radius: 2px; background: #f6fafa; line-height: 1.21429em; padding: 10px;\">\n",
       "                    <div class=\"item_left\" style=\"width: 210px; float: left;\">\n",
       "                       <a href='https://OCPW.maps.arcgis.com/home/group.html?id=412ab79b67de42dcb94cfa6b0ea17402' target='_blank'>\n",
       "                        <img src='data:image/png;base64,iVBORw0KGgoAAAANSUhEUgAAAJYAAACWCAYAAAA8AXHiAAA6w0lEQVR42u19B1hU19a2/3dz701uqhXp0qvYsWJviS12jZqo0ZgYjUk0JjExRZFeht4RQSmKIjYUEeyoYAGl2RALdsRe4/vvtQcIM2dmGHAOMYb9POdRmOHU96z6rrUaoWE1LBFWo4Zb0LAagNWwGoDVsBqA1bAaVgOwxF7Pn9P2vGr74w/VW/Xv0t82rAZgyaxHj57iwoUyHM4uwfqkY4hbmQU/yS78tDAFX32+AVPHJ2L40ASMGLoaU8et5b/7ZdFWBPjuRiz77sYNuTh6pAQXzpfh6dNnDcD6J10sSZiHD5/gVtkD5OZcRkzUQcz4JA4dW/vi3f85o8m/naH3jhtMtN1hquMOS0MPWLXyhI2JdGttJt0qf7Y28oS5ngf/rnFLd+i+7cr38e6bzujE9vn5pwlIiDuC/LwrKL/1kIP3+T9ErL3ywHry5CkD0UVEhB7CgtkpmDQmFvat/WCg7QELPQYOYwKJF2xN/9xam9Vtq74P2ift21zXA4YtPdClrT8+GR+P77/aipjlhxnYSknxNgDr77JIDZXfeoCj2Rfh7pTO1Fcs+nYN5Q/bqIUbzPU9uLSxM2dgMK87iNTe2DHoWLbsmHRsY3YO9Pu+3cIwYng8JB47kXuslJ/zq6RCXxlg3bnzENkMTP6++zFswHJYaHszVeUFK6NKNeb18mxcoklVqY0xO0cdCUZ+EIXggEzkMJDdvfuwAVh/9bpx4x5iVxzB3JnJsLOQoNk7Tswu8mD/93q5wKRio3Olc27xrjPa2/hg7oxkrI7NQVnZvQZg1fe6d+8hvNwzoN2Svf1GUjvp7wKkmjaSYiTNDPUl8PfZjQcPHjcAS+xVVHQNXs670cHKD2bMALcxfXUAJQAYU5em7Bo7t/aHv9d+nD1zowFYmg5ani8pg+OvaejTOZR7Wq+ShKrR22TXSgDr1T0MTkvTUXqxvAFYL7quXbuLmBWHMdghkhniHrAy9PjHAEp+Mzfw4CGMoX2jEBdzBDeu32sAVl3CBtlZF/DxxAQ0Z0atranXPxZQQhXpBf3Grpj2UQL3Ip88edYALHXW4ydPseDbTbBo5QULA48GMCnZ6N5Ym3rjl8WpL10M7KUCFqVc9uw6g652QTyV0gAe9aL9FvoeGNgzgkn4iy9NyuilARYFOJf9tgPtmQdkadQAqtpuluxFbN86AB7OO18K6fWXA4ver6LCK5g6NhGWhhSJ9qyHOJEnexBkCHtwj8vOzJv93pv/n35PD6k2Nh3FnOjvbE3ZuTPVRPuzq9gffUbBT9t6iP5Lj+WJaRMScerUtb+UxvOXAuvpkz+Y6juLbm2COJNA7BtP6R1rZrd1bRuIHl0iMGt6Ityd0xARug8hgXvx608pGDIoGvZtgtHW0pt5oKoBRg/SloG0C1PdfXoux4J5yfCX7EJURCYiwzPh+Hsqxg2NRTfbUHS09WM2kXu9OCEk8bt1DuFmxdOnf/yzgPXs2TME+x3gIQRLke0pCjTqN3bB2GHRCPDKREHBZZW2yI3rd5AQewyfjE+AaUt3DiD5xLJRczcM7hOOAO/9OFl0ReW1lpXdRfr2Iiz8aguXZKba7tIkuJiGPbO72ph7Y0Vk9j8HWI8ePcHP81PZQ/MQ/Q2muFc7U1+sXZ2Du8yOq41xS/ypLZvyYWfsw+NHlfs0YK6+q2MGbt2q3f4oLHDxQjlmTEmEYTPXejHszXU9sejrbfVud9U7sMpu3sPns5JhauApOqjMmeqZMmo18nJL6+wtPXv2B07kXsbMT9ZAr4UbOrfxR3JSPh4z0NV13b/3GLErj6Bbu0CY67mLDi6611/N3YTb5fdfTWBdLr2NmZPY26oj/s0kI/arz5Nx5fIdtdNGqtZN9kLM+XID0lJP8rCI8v3I8uFVfW9HahG6MXuPks5iSy9d9lLMnJGk9v342wDrwvlbmP7RapjpeNRL6mPEwGhcV5HyIElElJtTJ2/geM5VHMkuRWHBNQag+0oBce/uI+VS6P5jnD51AxnbT2P92uNIZtveXcX8uokOrcwj3sGA2t7KV3TOmB2pcGbbzZqZhEv1kGusF2BdvXIbs6YmQvctF9GNViL3tWde3YMHykFwrvgGwsOyMP7DFTDVdcU7jZbiTbYZNnPBlHGrkLTmOLcD1V1nztzAoh+2wkLPA03+5QitN5z41uzfjujW3h/LlqajIE+5ge+6LB3WhuJLrTbs3jd9xxmzv0jmJsnfGli3b9/H7GlJXFKJDSpSgW0tvLF9a5HS8wlkXly3tkEwYbaNVWW8qpKmzP5PsTQy+AfaR3EpVNPKzjoHe8tAmOpJY2KKYmZ0rE42/ogMOqQ0Lzp1wmpekCH2PaL9t9J1x/Rp6/Ho4eO/J7CokOHbb1JEt6kqN0NtNyyYvw3PFMRubpc/ZDbXOphpecp4eKrc9cU/buOeobJVymzG/n2j1AqXkKrTauqGpb+n4d49oTTNOXoJAxxCeaC1PrxFI/YiLF6UptJefGmBteTHHcwjqZ98mZGWK77/LhU3bwhFPNk4TssyYKZby/CGuQQ7d55VaqPFxhxFqxa1CxsYMvc/JFix5NrNjtW7SzAvuqiPF9FMxxMeLrtECaKKAiw60ajwbE5OEzukQJKgrYUEAT77cee24iKE1C0n2cOq/b6133OGy9IMPHkslFrkGIwZHl1rEND5OtgHI/vQBYXnmrn/HIb0DecquV7AxdTimvgcjUsuUYB1YN857oWIDSqe5zOVYFVMNp4ruTFlzMub+fEaZqS714mWMmb4CoXeZc6xK2hcR2fEkKnEBXM24+EDxWr20sVbGNw7QhjxF0nad2njj/17izVa5ahxYFHy0759kOg8KlvycpihvnZNjsrzkbjv5dz4ugCAJ5WNfVB8pkyw3yR2XMPGbnXaL/2NpYEnAv32Kz3vs2evo3fXYNiYig8uSlv1dYjEhQu3Xk5gUTXJ9PHrYFEPCeVWzZghvChdqQgnu4o48sQ2qLN7bsHUYTN35OddE+w/JHAfL69/EUlBjApXx3R2rool196dxbDSk7CXSHxw0TObOmbtywcsesBebrvqRXyTVzdheCyuXFEcRT7GPKyp4xNgbeClMASgrFq5UppUVkgTsFoyYOUpAJbEcxf3HBVJI7KjKJ1EjA1bM+UV19Jcnge++nITzp27KTjG48fP4PxbOvuOe72oRHoJg333v1zAOpx9AZ3aBIgOLK5G9LyQvO6E4rgSM4oH9Qrj7AN1jWkKqpprM8AaesNC14tTawiQKoHlsVMALOKiWzEnoVeXIEwZH8urm9tZ+Kqk39D1tGzigk+mJKKkRKhyT528hgF9I+uHbsNehA42gTh9+vrLA6zBfSLqhflJpLlhA5ejrOyBMAJ++gZGDolSz74zlRaG2hr4MpBkYP+ecyjIu44D+0vw66IUWOv4cHKeVjMPtYBFD2VgzzBsTs7H1St3UV7+gKeHTuRewXfzNsK0hZdKcOm3dMMXszZwBob8clqyo140QSUTdTS7h49eIMmuEWCRCvR03inNAdbDW6X1PyesjjvG40jy69eft6NFY/U8NWt2A8cMjcaVq7eVGM/X4NAmBE3fdUVBwQ2lwKJjkWqeOGoVSi+VV0ta38WjajnCFREHYa4iT0pl9oZNXLE+MU9wLGoaYvCee721DWjxH2eEBx54IQbqCwMr7/hltDP3kXpQ9XDRlG4pyBdKkPMlN2FvHajmfjwxpF9kVRjh7t1HWDQ/Be8PWoXlDACV3KX9e86iTWt/5OVfUwmsVk3ccfqUVH2cZqprxNCV6NE+DD27R2I9qeznz7mB/uXMJJXUa/ps1JAVCtJiD9GzU1D9NTdh19S9XSDyTlz+a4B1984jLJi7kQfZ6quebhQT09euCo12H49dahnqBAQTLXfErzpalUB26CStCiKD28rYG59OX88MZ6kqmP3FJuSrABa1RnL6PZVL0JJzZejXJQLmhh48NUP7szGQILlCClGfLltDH5X8d9tWPjh58oqcEf8Uvy/eAqOWbvUDLPK6td2w6IdtauVLNQosEpOpKUUwbO5abxdLdsZXnyXj7j3hxQ4bHAszfXf1uFqGXigquM4ZnVMmrRFEuXWauSF1az7fb1pqIc8JKgNWs38vw5FsaRQ9PCRTCm5z2XOeMGpl1d+Z6/uqzFXamnhz/r18+mhNwlG0fNOpXsvKbNlLlr79VP0CixqFjXl/Vb0kTf803D2xeP52PJar/CWKS98uUeyh1QwsUje9ugRyTlJ5+UN0tAllUsxbEHH/8btkqao/Ucok5F2lwHrzNUfmuUnVoItjusAkoJ8dOgZXxdsMDFQDiz6bPjlBQArcu+ssmr62rN4LYieMiKtTpXWdgbVieRZzxyX1eqEELMdFGQL2wv37jzDAfjl70GpILKaG2lv54FyxlIDXvftyARiMtd0h8Uzn+96186SMUS4PrBavO2H71gL+u3WJOUxde8s4D0Q6nDl1TYXkeQZDPR+VwKJKotFDVgoYgUeyLjJgOdZ7vWI7Cx8kxB6pH2Bdu3YHQwZHw1TfvV4vklzhRQvT8FTuDaKI/6DO6gGLG9tN3ZCx41QFcE5Bt7ETL82izwy03GBnG1Bl2C/6cRuzea4rBRbPJw6J4cHMO8zmnMNssmb/XQqDpi5cdXXrGIrDhy/xv9myKY/ZUN4qY1IErPEjYgXAyjp4AW+9trT+G5Gwe0psXEVUH40DKzbqKG8MW58XSG852UKhAVkKz2lQ/5Vq2VjSmJMnpk1MrOKl7919FiPfj4YZM5xnz1yLnJxLVWqwi30Y8vKuq/QKzfU9sSn5RJUHt21zIdyc0hAdmY2zp2/yY1Bs68MBMTXGoyi25u2eLjjexQu3od/Mhd2H+m9raW7khc2bi2oVfqgTsIYNXlFvATue9mCA6e0QgaiIQ0w6KaYMBwfsg62Rd43gJArw9I/WICkxt2pf9ODv3H6EmzcfVP2upOQmM7rjofOuBzP0lcexWptLo/S9O4VibUIOt/dofxRgrOQ5PXv6DAlxx9CyqSusVYUMTKVe4Zkz1xTyv1I2FeBDdu+NdOpXU9CzHj8yRimDRCPA2r/3DPSa14/bS936bI0k+Hr2BpWccSk/6i4G9YxUCnhK2/TtHoKVEUeUutB37jzGhZJbSFydg9EfxMCMPUDT5p4oyr9RY+SdeFntrX2w+KcdCj3oK5dvQ+KzH3bGvkpjWSZsHwu+3lwDv/46vpm3mduJ1sb1pzW033ZCzjH1m47UCli0077dQuulvwJJqibvuSHAd5/a6YWN6/Jh0lzYPpLSLcMHLsf1a8oLCK5evYMBfWNg0dKb5wrpoVGk26SZl2qJJScR+3WPUHmOuzPOoq25r6Dky0TbA6Pfj2Eqr2bqCqlwkrg2+pJ6a5VJgekJo6S2pMaBlXP0AoybeNYDgc8TRtrMbtmYX2s1vS4hD13bBEK/iQvM9KQMg35MUhUWKJd4FDWfNmm1tP+7RTWmQy2BRfeFiIfB7GUgD1DZionJgYmuJz83faI2m3pj+lQqyyqr1bWSx2rcSlIvLZ/oXpi18MaJ46WaBRZJQKdlu0UXv0Rs02OgomSuKi527rFL2LA+V5AzpJ/Pnr2J+BU5mDc7CT06BUjTKgorbM5j+PA4OHQI4rlD+RemtsCqzA60NfdBj+7LsTz8AG6XP1BQZPIMni47MXrocni670L2wfMK1TOFQ3JzLyosDqmUXNmHSmBvGVAvTVUsmQfs55GpWWBRQHHE4ChRpRV/4018EB5yUOl5EKvBz3svOtgForWFL1aEH1ao9+l3t28/QOml21XpmargLnvYS5ekw8rUV9rXU4ldVhdgVZW1M2lpwyTR+wOWY9MGoeS9d/cxU813lZbq37r1gLMibEz8MHXKGmQdOI/nSsjDG9efQBe7ANHztRQKmTwmDqWl5ZoD1o5tp3hsRuxI7w/fblZYOUxAuXTxNj77JJEzKaTzbzxhzGwqP7/93M1Xr9DjGX7/NQ2Guh5qif+6AEveo2pn6csevrpq/TluMFtwzmfr2P49q+6LnbkE0SvI8VDsFdPLVh8hILrmbZuLNAMsetC//bwVrUTMC9JbPqTPCqW9zE8WXecJXjM9N0HKxJiB5NMpq5naKK2xlCl9+2nm8kvUUumaAJY0sOsBh44huHz5tspzIxW5d9cZDBso5ZTZyhESdbTc4e25Cw8UqM0bN+5jypgEGGuJ67EbMNvVecmOGrvXqAWsq1fuoYOVr6isUKLoxq86rPD45KoP6BypnL1gLs0BNn3PGT8u2ISiwmu89aS8hqQ4zA/ztki5Y+Ze9QasSsmVGH9c4fVRVLsg7yq+nLkWWq87VcW0KJBLthMfb2foyau833x9GcLCDkLR5LDdDJRtrCQiM0w8MbhvONMQj14cWGnbCmGl7y1a+TexQof0Wa6wbzmpuNmkFgzUYy7Qw6Zwwegh0cjNKZVTg3/g/X5haodLNAksqspx/i1DJqFL6n3z5lMYM2wlbI28eO8HHhNj/3ay8eWN2nzd90Piup//38bMm3mTbkyS+SI5UahaKSzz9VebRB2uwKnhRj44sP/ciwPrl5+2idpqR+ctZ2xan6ew4iYqLItz3GvDTuXGs447IoKz5FTNH+jVOUBtwpwmgWXFgPXbj6kyjgTx2aZPXs3DIpXXR6GDscNXIedoqcwMnfvs/0fZ76ZMSOD8t+GDohTSeQ5mFkP7DReRw0FeWPZ76osBiy5uyOCVooUZKLzQ0z6Q984SJLuv3kEv+5A6vYFko3i77JPxGCkU8dHolWrHfTQtsVx/ZxKrmm1SVnYf4z+MrpqfaMn2R+0piZJEi+r8tm46iS3JRThTUeBA3uK0j9ZAt4kbPN12KXheT9C7c7CoKTded9AvWmUUvkZgHTpYzB5usHplVHXxMthDnj8vRRASoPUD+71VHUvNOXdrQaqMh/mc2fWuzruZOpHy88nwrxzDqyiMoilg8X2z+7dhnaz6ulx6Bw6dAiomsnqis60/jmRf5J8dyDyHcUxFGjJPXK+xM4YNiETKpkIu1Q/sLYE9+665kTezJR8IYlvr1+Wwv3MVlRDQ3S4IJ09erTuwwoMPMvR7iKizvXkjWYGXc/0uenYIq3Pgjx7UyA+WC1IkR7LPo4udP5/9TMMy+zkE8z6dVKxgJfeWa8wrZNfQo3WYYP7g8ZwraPa6lGNl3NINc2as5xqCqnsGdo3kAcnq19O1XQDOFd/kL+F3c1Jgwv7GSwETgmZeU+JerJgj7Zeq0FfHHa0bsEjUfT93G+d1i9VvvaONP3KOCRtk7NlZLO2V/gI3R/c9J2SknZbzDp/D1y2Tt6r+o9oH+XmXMGvmBv42Vh5TU8AiZ8LbfacgtODD9kHdnOk7RIn5+XtpArsg/yp/cPLXTryx7ENSSo/Lb7vZc3FFdwbYO3IlYwTOUUOWi5olMWY27I8LdyhVhyqBRV7Gx0znm4nUgJXUlb1FEG7JNV0lWyhIcoC3HXqhTirsvMk4VhZUpIdLrAiqoKH7Q98L9M3kRRCaAhaZEP26heG+HFGO6Mw2ln5MJUsfvgEB6zspsIoKrqGdlUTW/KBWTS1duVFPy/X3PTDRdkNHaz8GxCsC73feZxt4CEfMQOmMyYlKCQIqgUUcpV6dg0RDPvULsLEKFhyX8mbfzFn/4iPkKDxiIkF0lDA+RoUgo0cwp8QygJP54mOP4hEDGIU3Pv8kiSfCNRJ5Jw77lHgBoH9dlApzQ8+qEA6BZNbHa3nBKuUXR45YBQP2O27/8XmF7pjAvMWbN+7z6bJzmXQ1r0iyb91yUs7OAn7+KQOtRORt0XUN6h0qkJZqAet8STlatRTv5CgiTbV3gthV+UOM+zBKI2xJsps6dwjB3t3FVWL7eO5l2Lf25xLTriK4atTCBRvWS8u0MnYUwURLyg7VhMTq0y0EZ05d51LxyeNniAo9hLYWPjKqjoDc0cYX+/YU8/0fO3IBo0fGoaOtL9t8MO6DVTh6RGrYU9Pcrm2kRj/ZWdHhQlvHyz2TOSnuomZK6L5dVVBoUiOwdmWcZjdcvN6hdNM/m7pacFwyXnt1DdBYoI/bTZaSqq4u387ZKKguotjQp1MSuDS5eeMuWv7HlUs8TdhY9ACIyjNrWiJGDIpBG1OJwnAAAX1ovyjeYlMa53rI1SLZXJRQr4x9jRkWU9XwjeJ1of6HmJSSTWWtZFKax8ZEJA3oveuCEzmXaw+sQL9dMp6JGNuyJdsU5r26tvPVGLDoxaA82717Ultr6oQ1gkg+Peixw6M5kY0e6Ov/dtYYsGQATsFZc9Wpn95dQnCKS7jnMmGEfAawfj1CZdpEEbD8PTIFuTuaqNHBxkdUNgpN11gddwTP/vijdsCa+/ka8QJt1PPAwBvJ63IUsDnvSpPNppoDlmFzDxQWSOMuUZGHYGIgdZkrP2/6jhOcHKX9tqjDC4UjqBTfpJmnxoCldiM0PQ8sWrgVD6vx+ylo2schhMf9ZKpo2HeXLk5j35VNTB/OLuHDqMT0DKlL4pJfUgRVUzUCa1DvENECo2SUUuBVUd/QwvxraPx/S5W0HPLgsS/rVtLSK3XzfhRo/e7rDRVOyUOeUzOrKL6wZappwrgEnD59g0uJIL99VfEz478AWNQPy/nXdJmgMUXp+/UIEpTn8zFyk+L4MARZB+Epxg6NFZVdSvueMGqFQs+wkSpeNbUQFEuUGrRwxbLfhXEQCjWsXJEF7bedBcZi9/YB+G7eZv5Q532ejA8HrEK3dgHMgK35POlzat5BtBkpo+AxtqcWws15B9bEH+VBRWkA9QL6MC+xUlr+FcAiSeDrmSnDjiW+PvXrkr9O+tnM0B0njgup14mrj8HaxFvU3vG6zV0VhnMaKedgPcWb/3ISBVi8qZmVD/bsEWbIqRlt396RgjeT1ObO9FOC0voD+4vx2/dpaE3cbzXSP51tA/k8HEVtkPbtOYv3HaKY6/9nOuSvABYV5m5YXyBzvJJz5Xj3f4oLVpu/44zgwExBEp9CJ717hIlW/EKAbdRoKcrLH6kPLCorb/6aiyjAIlH/2aR1VZ6OPM2WenNWf8sIiB/0C1eZeirIv8wkWpBMWoarTnZTyYMyYsa7YTM3GLN/333LGeNGxWDrlhMoKryK7dvyMWX8Kv6ZvOqvC7BsKiar1qXtEIGgc+sAppavyWRAdmecQdN/L1PS6NcT3VuHVknd6tLfbVkGDEQaYUfP6P8xYJVeuqMesEg7FRZchtZ/xQEWjcwNCzygkPD2+SfrFXbk62jrj1u3VM9/IZbpjI/XoJ21BEP6ReDTCUl8rmAC81y2bytEeloRktfnMG93H+Z+thkDB0ajOfP+WrzurFTaqQssssmoIGPC8Dgsmp8KT9dd+H5eCob1j+ITM+wqx5/ouHFvSr+JKx8+QNkBSoZXvkgEyCmjE2RMBLK1lvyaonRYAf9bU29EhQurxFM3n4RRc/GA1aSRE4/RqQ0sKvXSe9dN48Cik+lo7Y8jh88rUEXF6NLOX2H/KHpo44bEIm17IS6cL+NRckWVuWTEZu4rxulT1wSekvzbTFJ568aT+GlBCs9LKmp9XSOwzKUSqlfHEMTGHOYpoj/t1D/4QCgPtz2cm9+jfSDmzloHx8Xb4bY0A7/8sBUzp67m07/MWnpw6drGxJeX9sv2yriHtlToqqJYgrzDT8askeFw0So+e4P3FBPDO+TeNANWvoIGbUqBdeBAMQwaiwMs+w5h3JaST3j7+WRCW0XBBkmFdlTsaemPyWPjsG718Vo3q1C0KIXk+NsOha271ZFYVK2dvv0kvwbaV9ahi9i69TQK8q7x+BJRdw7tP4+S4lvcI6WfSQoRCCiMcPbMTaxg0qZH5zC4MNUlv9Ym5HIHRZURTsDp0SEQhw6UCBLSC+amiNJ3n6Rwi/86V/UHUwtYu3adRCsmsjUNLAIHRaDlix7oZ3qba0p4082l8Wh0o/Qbu+L7hduqiHE11UWqqg4vKChF786hguutCVhkt3m5pXNQUYeaX35Kg76WC/5LnWHMpXlKZfMKhSm0m4KZiLdu3cfE4fFqlXZReicyRDgDWuKdybsMiqEOW/7PBYcOnlMfWOnphdKW1hoGlj6TSP4+uwVeGcVC+nYLqZXBS1UsxswRmDxlvcrmYMXF17F3zykcPHBWaTPbjcnHYW/nK2wrqQJYpH5Mdd14CoqW0+/pVR1v7KpV1mzbeqrO0jQiMBtGahrflKj+aeFWwT42b8gTNJfTVJBb5x0X7N55Wn1gZWQUiSKxtN505i1/5F1jSuPYmfrWLRnK/j2QWSJgEAQH7Wf2ix8MG7vzpLJxCw/ovekG+9Z+cFqahl07i3l5PbXiHtAjXKAuamI3UDrlg36hnA5MtJgPh8UJpnLQd1yX7ZCx7YgRQB7xgweq+3uWlNxCD3v12SVU1UP95QWNXPadQRsziVqVSbUFlvbbLsjcf1Z9YO1nXxbDxmryf8uwM+2UIDBKaRRrPUmdgnmtWrrC8fc0mRZHpH7GMg/NWI46wntrmko77dEQ7h4dA6oy9bWlJlPimrITD+4/Ycd7jNHD4mWARddCIQy3ZekVPSKu4fNZmzBpdDw+GhWPqRMT8f132wR8qqoaSHafjLU91b4nJCH7dBXSkE7klvIKc00Di9tYzKM+nHVefWAdyS6B/nuaB9a7jRxxiEkXeWARZdhKt25RYiL3jxwSybynPz0yyl/NmJDEJYYyW60yBFDXYgpShRQ6qJyx7OWxm1N9KJZGni0xKOia0lKkqiKMSVAjpq4osk62pLG2G4z13NCxfTCiIrIEM3Vycy7DopV3rcwRm1YSYYqs4Ar3NjUOLLa/Zv/nhGOHa2G8FxZeRss3XEQBVtbB8wJgHWUnZ6VbN4lFb6p9ax9cvFAuU0o/c6JyYGmqSoe6RpOqo4a7RIycP3cTD3BSr6zubYMRHpDF1R/1ixg5QHm1k5WBF6IZuKr3Z6D+87NnrOMkQHXNAkt9bwXBY/GAReEG0jZqR94pVtRChMh7k38t4/0/5YF1ntkTNno+dZNYTEIMHxzOe1xVDypOG5f4Qj3o1QEWr+Jm0ofUVuXKO3GJ/0xeXmU8K8hvr8ppYWTf9e4cguKzssOaVq/KqVU1UOc2/sL2U8cu8vF4YgDrv0xQXDhfrj6wyO39z2vLRDDenZCUKJzoeevWQ25o12WEmpGWG1yW7JChmZCBTN1xXmRSqVrUZPOKIeeWEqyKPsLtPJJQFLylf4mYt4zZf4ZNaw6jmDDnImm1bMul/BOlGNw7XC11SDnGsSOEky327mbGu7mEq34xcoWK5ho1UhWZ1ntH814h5a0knhkKww0jh6wQlGDVdGGUArFm4j/r4EWZ/VHQsbXJi1X51IbzzquvDb0w4v0ofP/1FixZtAML521Gn86hTD2p0azOXBo9r+5BVvatGDtklVrXQcUnC77aKDjXdYm54qR02PbOG05VBEq1+VjUtEzTfCwytCeNiRO0HCSgLVqwhdfXqce3JrqIN+eTL/15uwwniFRPaOB+Htd5EfFfl2IKejGMW7rzlt8UsKxNKoWCx4t/2CzH9riHCcPi1QKWcQs3BEmEvcVcnPaIEiCll5q8YkWDPFUCa9rkVRqnXBCnqJ1dsMIhlhERR6DT3KXG7D8NF/927kY+8JJ4SvKdlGmShIn2i3PJNFlir05MiPphebjKpnQuXijDyMExNV4Lr6Ru48dbi8s0mbt1H3NmJosyQYRsy4XfKg5OqwSWu2uaxhmIpL46WPtid4YwGk3JzEEO4Srp0FT8GcgM4UobjSbMl1drx0hOQaDfbrWbxJEEJYAoK7E3rQuwKkrma02fZraixHO3HMX4PHp1DlbrIX80MoF5kg/lYliX0adrkMrBUHXdqJA5MjxTIbdNJbC2bMyDqZbmq3TIU1v2807FnW2+385UgrtSVfErTaaoyDMmrsmBjXUwrA38MWVSAq5WSEEaiPlmo99rlBB0Y4YPjMQPCzbAWs9L4EFKZ0J7qJxXqOgBGzZ2RQcbCbRed1bblKBeCx8OjBGM8CXp+9UXSTxepmpeYRtzos0cEoSNEmJyeDcfcap0XLFn5xmF1dCNauI36Wu5a9ybICkxakg0ShTMQabauXZmfgIw844sJr7Iz7vML2R5eBbMmLFLNg3ZMSRZqc8UhRyePXsOx19T+eeqQhQ/LdiK+/ce89AE0UsGOyyXAYJ0dK8H8tUEFtl90zjA73Lq884dp3kIQaXU52Pu3DB/7mbcKpNKG+rYR5Se6iVfnkxFGrd0VXItHhjSK0rgnZEdO2tqojiV7LxVlJvCUEONwCJGYidbP1EGMJJhHRd9VMA4IH299Nc0NH/XWWAotm0ViMdPnvKZNTS+11LugREogv2kXX337T4Ho+bKjfcebYNxPPeSzLEXLdwso4YrZ0LnF9Q8updeBCs9b870rL4cF6erjF+RFB7adznvr8qb3KWexKSPEvn016nj1yB+ZQ4P9lL4h1pBKgKpbmNn3vddXnLkHL2INqZ+4hXDdA7kE9RqDSwyisePiBGFy0MPZeLIVXikoH3RpUu30b+XLFeb3kp76+CKgtYHsDITJqwN2Rs9/+ttVZ1cjFsof1P7dF8uM1qXsxOWbJd5cLUZNs77W+l4I+eILElv/bpcXt+nlHbSxBlbthRKWxftPweH9sEwYNdB99xU2415c96Iiz3OQbMhKQ9tzSUy9iCVis37cqPC5r5ff5EsWvkevRCTx8QqHUGjElhklH09a5NaIYC6eEH0hietyVF4bBr63dpMUiUtpRIrgBP7iEw3bXICTOREfDvmFCRV1CluWHeCMxoUSSza15zPkgTHpN8pkljqAstCx4tJLFkKyfHci+jVKUR5+3H2dxRzo/Xzt2m8g4x8xc5XnyfxZ0H0n25UK1hxjnRvenYI5mpcUWFIJxt/0QopTHU8sHDuNm521Kk/lrfrXm6QijX8pzt7Q8uUcNk9PffAtKXHn83LTCXI2CF9cHv2FMPa0g86TA0Q8F9/bSkWfpfC41nkMPZ3CFH4thJJsNl7LkhaK99o9jn69lwho/YrgXX8+FX1VKGhFy9dk7VznmLU4BiFdiqpblInl5g99ejxE3w1YyOPfcmnej6dHM8dlsuXy9GjnfS6aNRJc+YkZB8sUSgQZk5OVGljvrCdzAAbHHSw7o3XaHQt56GLVF9IJfzLFmcobKNN4p/abFdG4+mGfjwunrMY6DPy/ny9d+Gn7zchbftJLs3opsbHHobeey5Kc3JDBkVydSvjNBy9AIdOwTLXWQmsnJwr6hnvDJRTJyYIqcXM/mn8jrNCiWWi68p7M9Dy9dzPm9fKDEdq5oJfF6fx8MqJ45fQ2U7aQ5VaT7q77FR4z9LTTkJbxEFavAlcmwBebV1nYFFnvYF9VohWqk1vrW0rL87VVkQd3pCUD72mblVeIvGbvvhsA05WZNTphleCkqRDzIrD6GAVIEuPMa/oB8+8r7bWfkhPPyswdB0X7+AFG/LhBi0GrCOHS9UGVmebAIFTQIa367J06Ldw4y9JdY9Xt7kL/CR7+AtBif9PpqyF7nvO0H/XBdpNXPiMH+qlRdcZ4neAe56k3rq198dpBQM6T528yvOC1ibiVkD37xLJOWh1Bhat2bOSRR3ASO72pLGxfAyI/MrMvAitJn8Ci09BZeqCugZ7u+3Gju2FyNx3FuuTcpktsgF2Fj7SltUEWHoIrbyZLSdBJ+sAfDtnA29nJJ8AJ7pNny5hgn5cFDcyaOaJY2oCS9pT1QOz2Xk8kUtZUQjBj3msDvYUd5Pwc6NzpNALTV09VMGApTBDWEAWnH/ZieDALAa2W1W5TwdmT9kwYJLUHT10BR+ZIr+W/JwmmulS/QX6dk6ySsyoBSwqQbc2FK9UmyRDk8ZuzIYQ3qiUDYVo1VRYocJjV0akEpg6ZU4A9RGl2sD2Zv7oYhWC+fPWI9h/Dzauz8XhrAu4dvWewga6FLlf8PVGhXWF0pSOJw4fuqg2sGx41N2bp1bkJTABmqqTUjbnMQ80FZ98FMdfEGvLQIwZFYuiwitV6ZFK8FOogbr49XcIreonQemZIf3DBZ2maS7PmDFrxJ0CRuVuRhJs3njixYFVfKYMtoY+ogJLp7kHrl+/L3wDf9mmPNxRoeaMtFx5gDDAZx/OnbuudqECAc3LaQ/efsNRRa6wdsCqBD0Z64cOlqh9Ltev3eFj4nJzLmI/k8DUTmDzhnw4/rwD7cx8BY4IqbsTuULbb/rHyaKP/evQJhBXrtx9cWBRFPnLzxJF60VK9k+n1n4Kg22TxypPhNPv9d9xR2TYAV6MUZvRsgQqD/ddMNZxk5lZIw8s46aeOLjvfK2T0JXN1lK3FqE2i7xa6vQ8a9oamOlI52DLl37Ry0Te8oa1eYK//2F+iigB7SoGBTNDvv92k9KpZbUCFonldQnHofO2k2g6u3vHQIXzWT4cEqXwRpEU694mBGlbTwq62am7KD1EDUg4vUYFsA7sK6kVsCqlKFUmqzs4UlFw2tUxnVfXyL9YPGbGVH/McmEN4W8/pYo6PIBymmtic2sc4av2WDnKG/a0DxKn+wz1LjD1QfktocSaOGql4MYS0NrbBiIluVBJcaqUvUlTHMjApRSQdGK98LtFBVfQxz5UaZVOXYBlzCT7J+PXCJp0VJ4bVRBRTpOmgak6N5KqzkvSBEDhwNLzxIqIQ4K/+XFBimhBUbrvQ/tHMixcrREvjWqjOr5bsE2UsAPZWM3fY8Z7qVBvL/5hiyy9mFInzGBfHpGl8KERz4sa208aFweHjhHo2T4cnTuF4+NJidieUqhwkunBAyVoZ+kjaE1ZCax9u4rVJ/oxV3yAQwRK5UbI0bldu3IPEaEHMPT9GHRtF4Ze7cLRg53jvC/Xc448mRzyiyhBn05cK5NqImCZaXsIZiDSMT6fkizqPMkli9IVzjyqM7B455KtBZxmq+nqaHqAhu+6I+fYJcExE+NzYdj8T6+QepePH7lKYbOvg8xlH8Qeass3nf6c72whbQlJbn2zfzlhzqwkzj6Qj1TPm7FRQJupBNbeXWfVApZ0JrQ3YqKyBA88P/8K7K2ks6p5f7Bq50a1iFpvOGH2Z0k4f144bDw35xJ3IirvAUn4NuY+yJPLCBAbYsKwBNFoyBQZIMdCnVUrYFFku62pn8bHltlV8L1Xxx8R1sQVXuPVwDYVEyOoReSxIwoAmHAMne38pB6kufL8JFFPJjNpdkuu3wM1cOveTlbVVwJrZ9pptQOkA3tESof2VFtnztyEHVPdpvruKu8BtQvo6RCJ0tIyAeODuPC6b0uzCQbMfhs/Jp434ZVR64VXMbhXuDgSi92Xnh2DeUmaxoFFK25VNkx0xOFPfzN7kzDvxUftZvBp7/SduTOSBR1mSBr06BCsXiEGqRF2/uHBwv5cgwfEyDgKlcDakXpSPYll7MUM7jSB4/PjwhReka0Or43ye2MHx/HrlmF8XCjnZD4u7cwliFt5VEFXmuOiBUd13nZmqve4WmqwTsCiHXdqG6hxl5YkxeBeERwk8otYlWOGrIQhA0Ty2hNyAc5nmP/1ploVC5DEHdY3mrealGGvLkqRMZRrAyyehNb3xrbNBYLWAT06h9bqPlCz3bTtpwQ27vwvN0HrPRcsmLNF0MGGXrb5czaKMveIc6+6BCkdb6IRYPFkqcdeUea0GOu6wcV5F/5QwKE+fJgmNaxixnm5oHEGJWpra/f1YGovJ0c28BkRkslU6Z+2TK2Axb5rru3Np83LqOjVx5hjULtxuvSSfD5jLWeOVqcZr4nLxbjRsVWzC6uv7KyLaG0pTl93SnivCMuuMcTwwsA6WXQNA3uHa7zygzzO3uzNKDlXpvC48tUglHwOCdwLnfdqz+nu0sYfaamy0mUlM7ppfG5dgEXANjP2wXG5aHiI/wEuyWo7mo8ml505JUvdppbcijxHWsSLF6P1NqWRBvWMqHFQukaAxcMAlOzUMLDsKuyfOdOT1ToHCh3Q4Ou6BASJybDsF9ni0G++2FgnVWjL1YUvloccVDjdPe/EZYwcsIr3H1X3/Jr9ZxnWJ6pn00SFZMNS10s0zpyj3H0SFVgXmApyaBvKpzdo2vuwMfJmD253jTeVhpNb6fqqrF5RlXJpb+kHX6/d2JqShxkT18LG0FthuEEVsHh6RZt5tAk5PGxBwKJ838bkXKxfd6yq2+D5kjL0t49QOw7YqrkrPF3TFU59kAXtFd6ERIxoO4U1encKw62y+/UHLHro1PlYr4mzxptN8F4IFhIkJuSoBNeV0jswby7hMaG6GqXUd7SNmQ9/MLYKAqQGTT2wf6/yyDupirEjormKItrP77+lw8RAuk9L9oKMGL4KJ45LK4tiY7KZ56he2b+Rthscf92qslMhjfmlsX9i5Abt+Kg7d0RHZtcJH3UGFneBL97G8IEr6jxetyaJQjTi5WFZCqPlXGLduA9rHQ2wLlT8vamBFwoKhMZyiP8+zkfXfsu5ikKSurUQxvrSGr9K1a7f0g3zvpSq9rt3H8BU30etlAv1uPCT7FLIrH3Gfrcz/Qz69QgRbYgW1RNMGhevkPMlOrBopTO3WKx5LfQmWrXywi8/bFdYhUKJ2qEDInkFj2jT2gdFVBXCVl/Ja4/DoIkb/veaI04WSoHnvGSHoOKY1IlDx+AqyWtg4KuWOmz+72WcNiMvsennKOah2Rn5iMbqlTYQlmBHWt17p74wsEhUT/lwjShSq/IitRo744eF2xQWDdBYs6ZvLBPl2PrNXfDbT9sUdj2myp0m77miBTOyj1ekovwle6RcLHPZl+P9PhFVf2ekXzOweIaBqebKWsPqi3haBjqeos7HMdNxx5xpG5VW4NQLsHidX9ld2JlKRCWY2Rr44KqCjsfEIOjSIVAU49VI1xXr1+cpvGY67owpq6H1Pydmb2VwSVJUeA2dbP35S8bzlFQM8bYzQgOkUf7TZ65ywqQqm8iuYpa1h/NugX1FAd1B3ZdzSSrm5NQ2bFPUtKXegcXTCatzYWHkLRq4rA294LI0TSGjYVtKERfdmqSLkEobNyaed7NRWsG07RSvr7Mz9EXxGWltX+becxgxJBodLYPQtVMognz38xaSBJLvvt5c4znS3B/7jqHci5Rf5J22s/DReK62ul1rxodhnX5hPGgMWGTvUGshC5GMSZJIHcwCZNpBVgeXl8seBgZvjXlIxJSklpaqFs2unj09iYNr3uz1VbYYMS/OnyvjiW6SZGRsU90AReCVvXi8klqfufcMVHt2Cx8sqeMvpyeJO3/Q0BM/fpOi0GH4y4DFRf3p6xjSO0o0o5Iqhbw89/IHpYDex1TOQdjbShkOti/gMJhpe/IeEOpkMC6XlvOBUNSAduKoOGSkn5RKqMfPeEMy6inq5pTBwyfKQEFhDhNdD/TtEYE9u84ofHH27y2GbgtX0UBFL+6Qvitw+cptjWBBo8CiRTdAS8QB5RaG7jiuZMA1LaIC92wXxh8iVxmm6tsWVkbs/yYSxMYcQS3SYlzNEY1Ft7kbdN91gc6brujVNRBtzSTQ+o+L0qYgvDMh8xqNGntg4TeblDbYoC4y3doHiMcMJU49U+fZh85rDAcaBxaJUerTpG4L6bqwGAd0D+f5SqVq+f5jJMQdxbTJicyY9oH2m07Qb+zC405WFXMEpXMM3XnfKfqcuuHNnb1JkJiu7oHu3qVcNVIXnOSkE5gyKZGrPK3XnXj0vHK8sDR04sFVbPO32Gfs/nzQPxKLftzOK5xVpa1+mp9SFeUXZVQwU+Vx7GWqa+1AvQCr0sb4ds4mcewBc2mnmsmjEnD2rOpSL5q0dTz3MpIT8+DluhNzZq3FoN6h/O0f0DMUMz6OhzNzCBLjcpGfd0Vp5xRaG5PzYanjhVXR2SptEGJxHjtSilVRR/HD/I0YN3IFendjhjw75vDBkfx3kWFZDKTFvBpH1cMku8rRcSeMdcXzAon2TW2jVF37SwMsHoK4eR9j34+FiUhvGrEtx42MQ97xyzWey/MKPhOxH2/euM/n/1HUnoBHrYxU0UHok+3bitCjQwCvlG5v4YfY6MMqUy2VgUySNmTAU06TjknFqvQ7Ra0VhY7BAzgvyeAD0cUql6d41cSR8ey8Hmj8+YsGLFpXL5djQP8VMBVhdrKUCeGO9/uEM4P5tMbfOK7Wn/yBTUxSOdgHVTEZSIWSqgsJyFRKYXlRU4KahJCXadpCvFJ5cyaphvaLFvQs/VsAixZNRejTOUy8MATZSrqe+OHbjTwUUX1kSF0XCTAiG/7+Yxos9YWNam0rZj5PHrOaSeZ70MAhuWy8e/cxgnz3wkpbImptIHHvu3UNx9kzN0R77qIDi9ahA8VwaBss2tR3PtVB251Puvd024VcZlc9fPSkTg+3tLQcG9bloXtHfxg2cVPd8J+pYzsTb4T4ZXJnQlFviBpVHrPJaBgTBVK7tA6AQVNqYust3n3ioArDidxLoj7zegEW2RsHM6VtEIn6K1o6wkQ6Lq5jaz+MYfYdBfvWrT3KgHaJ2VSKs/Q0w/lw9jlEhGVi5kfr+NxCGyMvtTMIlGQmmrZDpyB8ODQOC+ZtxsroLD519OyZa7yXF4GHRrDcYnbT6dNXsXfPaQQH7MP0sUkY3jeatyenHu9ilsZzxgIDVW+HcGRnXahVOOWlBVZlkI/iJP07h4ticwlSE0yaUM6uo60vutoFoYddKDp3ikCXzhHoWrFRIWu3NqHo2jYQ7awkPN5Up9k75lKVbMKOSXG2dlY+6GIXiK42wejB9t+zLRWnhvF/u9gEsc8CeD0hlfZTVQ0HlIhJ5UoaTM8eEThy+IJGzIWXBliV63jORfTutRxmlKg1E/dmNmwV3h+71717LucVQ8+f189zrndg0SJ7ZNQHqwT9Nhs2EQx1JhVHD4njDd3qc/0lwJIGUR9h6oREUZOq//SN2KWff7oOT548rffn+5cBi1Z52QN4ue/mKQWx8mD/xI1yf+atvODnvUftkvhXCljSIOQzrE3IgbWFP580IXY3uld6M5U6EW2M/JCUdKLG7MArDaxKj/Ho0UuYOCoWlszVtzZpkF51CRRbMCk1ZVw8ThVdV7vHwisNrOr5sSW/7WBq0VvUyPOrthFBr62lLxyXZoiWovlbA0tKT5Fyx3t1D4aBlpuoRQOvwka944cMXs7TM3+1lHqpgVWdh+S6LANd2gbBsCEsIZxowe5JtzbB8GUGunxbpwZgqbFofuGCbzbDWr+C6fhPt6XIRDCS4NcfU/n01Jd1vfTAokUu87bNhRg7IgZtqXRdyajdV1lCWVDqh1375PFxSE89pbQ6vAFYdbK//sDq+KMYPXgVr2O0Mnz1JRiNUGltLsGYwbHYmHxcIxU0DcBSssimSNt6Cp9NXYM3X18mLRB9lYx8cylLQ/ctF3wxcy3Sd5zGg4eP/1bP6G8JrMpFAUDiqk8cFwdzfSLHSefM/B3VJJ0znTuluKzZtXw6aTXvQf/sbyKhXilgSYOrUoAVFV1FeOghTP94LacOa7/pXFXZ8jJKM35eFZXPNGWexvvOnJaEqIhsnD1znV/T8+d/3+fytweW/Coru4fMfecQ5ncIU8bFwppmR5tIKsqvPKvaev8V6RY6dtU5sHOyMvfD9EnxCPU7yEcVl9+6/8o8h1cOWJWLgoUPHzzhU1jXxB/BF5+uRZ+OEZzUR30ZqMqHpAVvuCYC0HjtIts3kQdNKgYTdG8fhP72kZg7KwlJiTkoOXeLl3i9TIHNBmDVJWxx7yGOHbuASKYyv/s2FbOmrMOH7y9nakjCi0v13nFl/7rxbi8WBu6CLn/yarWy3RB9lxirrZrRPlz4vx1b+7B9R+EzdoyF87czFZfFC1MfPHj8j7jX/yhgyUs0Kn6g9o5UY3j29E3eHoCGhf+2eDO+mbMOH/QP5SVmzf/jhCaNluFfjRzxGtsas/83+48zTNlnQweG4esv18Hxt62Ii8nCvt3FOM8kUWWHYz78/BWUSA3AqpUj8JyXfZHh/Jhtjx4+5VXd9+494QCk8qx7lRv73QP2GTX+oCmt9DcUZ3v+/HnDjWwAVsNqAFbDagBWw2pYDcBqWKKs/w9jD18OVJ1deQAAAABJRU5ErkJggg==' ' class=\"itemThumbnail\">\n",
       "                       </a>\n",
       "                    </div>\n",
       "\n",
       "                    <div class=\"item_right\" style=\"float: none; width: auto; overflow: hidden;\">\n",
       "                        <a href='https://OCPW.maps.arcgis.com/home/group.html?id=412ab79b67de42dcb94cfa6b0ea17402' target='_blank'><b>Machine Learning Photospheres</b>\n",
       "                        </a>\n",
       "                        <br/>\n",
       "                        <br/><b>Summary</b>: Azure Cognitive Vision Machine Learning on Photosphere images\n",
       "                        <br/><b>Description</b>: None\n",
       "                        <br/><b>Owner</b>: ktalexan\n",
       "                        <br/><b>Created</b>: March 04, 2019\n",
       "\n",
       "                    </div>\n",
       "                </div>\n",
       "                "
      ],
      "text/plain": [
       "<Group title:\"Machine Learning Photospheres\" owner:ktalexan>"
      ]
     },
     "metadata": {},
     "output_type": "display_data"
    },
    {
     "data": {
      "text/html": [
       "<div class=\"9item_container\" style=\"height: auto; overflow: hidden; border: 1px solid #cfcfcf; border-radius: 2px; background: #f6fafa; line-height: 1.21429em; padding: 10px;\">\n",
       "                    <div class=\"item_left\" style=\"width: 210px; float: left;\">\n",
       "                       <a href='https://OCPW.maps.arcgis.com/home/group.html?id=a014bc53fbac41e683d1e92171cebff1' target='_blank'>\n",
       "                        <img src='data:image/png;base64,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' ' class=\"itemThumbnail\">\n",
       "                       </a>\n",
       "                    </div>\n",
       "\n",
       "                    <div class=\"item_right\" style=\"float: none; width: auto; overflow: hidden;\">\n",
       "                        <a href='https://OCPW.maps.arcgis.com/home/group.html?id=a014bc53fbac41e683d1e92171cebff1' target='_blank'><b>Orange County Open Data</b>\n",
       "                        </a>\n",
       "                        <br/>\n",
       "                        <br/><b>Summary</b>: A collection of information and GIS data made available by the County of Orange.\n",
       "                        <br/><b>Description</b>: A collection of information and GIS data made available by the County of Orange.\n",
       "                        <br/><b>Owner</b>: OCPublicWorks\n",
       "                        <br/><b>Created</b>: July 30, 2015\n",
       "\n",
       "                    </div>\n",
       "                </div>\n",
       "                "
      ],
      "text/plain": [
       "<Group title:\"Orange County Open Data\" owner:OCPublicWorks>"
      ]
     },
     "metadata": {},
     "output_type": "display_data"
    },
    {
     "data": {
      "text/html": [
       "<div class=\"9item_container\" style=\"height: auto; overflow: hidden; border: 1px solid #cfcfcf; border-radius: 2px; background: #f6fafa; line-height: 1.21429em; padding: 10px;\">\n",
       "                    <div class=\"item_left\" style=\"width: 210px; float: left;\">\n",
       "                       <a href='https://OCPW.maps.arcgis.com/home/group.html?id=f30fa28265cf45f98d821ac81b90e2e8' target='_blank'>\n",
       "                        <img src='data:image/png;base64,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' ' class=\"itemThumbnail\">\n",
       "                       </a>\n",
       "                    </div>\n",
       "\n",
       "                    <div class=\"item_right\" style=\"float: none; width: auto; overflow: hidden;\">\n",
       "                        <a href='https://OCPW.maps.arcgis.com/home/group.html?id=f30fa28265cf45f98d821ac81b90e2e8' target='_blank'><b>OC Geodemographic Group</b>\n",
       "                        </a>\n",
       "                        <br/>\n",
       "                        <br/><b>Summary</b>: Geodemographic data for Orange County\n",
       "                        <br/><b>Description</b>: Geodemographics data for Orange County. <span style='font-family: &quot;Avenir Next W01&quot;, &quot;Avenir Next W00&quot;, &quot;Avenir Next&quot;, Avenir, &quot;Helvetica Neue&quot;, sans-serif; font-size: 15.9375px;'>Original datasets from US Census TigerLine Geography (</span><span style='font-family: &quot;Avenir Next W01&quot;, &quot;Avenir Next W00&quot;, &quot;Avenir Next&quot;, Avenir, &quot;Helvetica Neue&quot;, sans-serif; font-size: 15.9375px;'><a href='https://www.census.gov/geo/maps-data/data/tiger-line.html),' style='color: rgb(0, 121, 193); text-decoration-line: none;' target='_blank'>https://www.census.gov/geo/maps-data/data/tiger-line.html),</a></span><span style='font-family: &quot;Avenir Next W01&quot;, &quot;Avenir Next W00&quot;, &quot;Avenir Next&quot;, Avenir, &quot;Helvetica Neue&quot;, sans-serif; font-size: 15.9375px;'> and American FactFinder (</span><span style='font-family: &quot;Avenir Next W01&quot;, &quot;Avenir Next W00&quot;, &quot;Avenir Next&quot;, Avenir, &quot;Helvetica Neue&quot;, sans-serif; font-size: 15.9375px;'><a href='https://factfinder.census.gov/)' style='color: rgb(0, 121, 193); text-decoration-line: none;' target='_blank'>https://factfinder.census.gov/)</a>.</span><div><div style='text-align: center;'><span style='font-family: &quot;Avenir Next W01&quot;, &quot;Avenir Next W00&quot;, &quot;Avenir Next&quot;, Avenir, &quot;Helvetica Neue&quot;, sans-serif; font-size: 15.9375px;'><br /></span></div><div style='text-align: center;'><img alt='OC logo' src='http://www.ocgov.com/images/portal/brand/ocseal2.jpg' /></div></div>\n",
       "                        <br/><b>Owner</b>: ktalexan\n",
       "                        <br/><b>Created</b>: January 28, 2019\n",
       "\n",
       "                    </div>\n",
       "                </div>\n",
       "                "
      ],
      "text/plain": [
       "<Group title:\"OC Geodemographic Group\" owner:ktalexan>"
      ]
     },
     "metadata": {},
     "output_type": "display_data"
    }
   ],
   "source": [
    "user_groups = me.groups\n",
    "print('Member of {} groups'.format(str(len(user_groups))))\n",
    "for group in user_groups:\n",
    "    display(group)"
   ]
  },
  {
   "cell_type": "markdown",
   "metadata": {},
   "source": [
    "Obtain a list of folders for the user"
   ]
  },
  {
   "cell_type": "code",
   "execution_count": 166,
   "metadata": {},
   "outputs": [
    {
     "name": "stdout",
     "output_type": "stream",
     "text": [
      "User ktalexan is the owner of 5 folders: \n",
      "\t[0]: AzCognVision\n",
      "\t[1]: CA - Application Data\n",
      "\t[2]: CA - Project Data\n",
      "\t[3]: GeoDemographics\n",
      "\t[4]: KA ESRI Training\n"
     ]
    }
   ],
   "source": [
    "myfolders = me.folders\n",
    "print('User {} is the owner of {} folders: '.format(me.username, str(len(myfolders))))\n",
    "for i, folder in enumerate(myfolders):\n",
    "    print('\\t[{}]: {}'.format(i, folder['title']))"
   ]
  },
  {
   "cell_type": "markdown",
   "metadata": {},
   "source": [
    "Get the properties of the *'AzCognVision'* folder:"
   ]
  },
  {
   "cell_type": "code",
   "execution_count": 167,
   "metadata": {},
   "outputs": [
    {
     "name": "stdout",
     "output_type": "stream",
     "text": [
      "\n",
      "Properties of AzCognVision folder:\n",
      "\t[username]: ktalexan\n",
      "\t[id]: 21c997cda3c64038831b3ed2d3df5735\n",
      "\t[title]: AzCognVision\n",
      "\t[created]: 03/02/2019 07:08AM\n"
     ]
    }
   ],
   "source": [
    "for i, folder in enumerate(myfolders):\n",
    "    if folder['title'] == 'AzCognVision':\n",
    "        print('\\nProperties of {} folder:'.format(folder['title']))\n",
    "        for attr in folder:\n",
    "            if attr == 'created':\n",
    "                dt = datetime.fromtimestamp(folder[attr] /1e3)\n",
    "                created = datetime.strftime(dt, '%m/%d/%Y %I:%M%p')\n",
    "                print('\\t[{}]: {}'.format(attr, created))\n",
    "            else:\n",
    "                print('\\t[{}]: {}'.format(attr, folder[attr]))"
   ]
  },
  {
   "cell_type": "markdown",
   "metadata": {},
   "source": [
    "Set the *'AgCognVision'* as the working folder"
   ]
  },
  {
   "cell_type": "code",
   "execution_count": 168,
   "metadata": {},
   "outputs": [
    {
     "name": "stdout",
     "output_type": "stream",
     "text": [
      "\n",
      "My working ArcGIS folder is AzCognVision\n"
     ]
    }
   ],
   "source": [
    "workingfolder = [folder for folder in myfolders if folder['title'] == 'AzCognVision'][0]\n",
    "print('\\nMy working ArcGIS folder is {}'.format(workingfolder['title']))"
   ]
  },
  {
   "cell_type": "markdown",
   "metadata": {},
   "source": [
    "List all the items in the working folder"
   ]
  },
  {
   "cell_type": "code",
   "execution_count": 169,
   "metadata": {},
   "outputs": [
    {
     "name": "stdout",
     "output_type": "stream",
     "text": [
      "Items in my working folder:\n",
      "\t[0]: Web App - Azure Cognitive Vision Cardinal Photosphere Images (Web Mapping Application)\n",
      "\t[1]: Web App - Azure Cognitive Vision Cardinal Photosphere Images (Code Attachment)\n",
      "\t[2]: Web Map - Azure Cognitive Vision Cardinal Photosphere Images (Web Map)\n",
      "\t[3]: Dashboard - Azure Cognitive Vision Cardinal Photosphere Images (Dashboard)\n",
      "\t[4]: Azure Cognitive Vision Tagged Cardinal Photosphere Classification Analysis (Service Definition)\n",
      "\t[5]: Azure Cognitive Vision Tagged Cardinal Photosphere Classification Analysis (Feature Service)\n",
      "\t[6]: Google Cloud Vision Tagged Cardinal Photosphere Classification Analysis (Service Definition)\n",
      "\t[7]: Google Cloud Vision Tagged Cardinal Photosphere Classification Analysis (Feature Service)\n",
      "\t[8]: Web Map - Azure Cognitive Vision Tagged Cardinal Photosphere Images (Web Map)\n",
      "\t[9]: Web Map - Google Cloud Vision Tagged Cadinal Photosphere Images (Web Map)\n",
      "\t[10]: Dashboard - Google Cloud Vision Cardinal Photosphere Images (Dashboard)\n",
      "\t[11]: Web App - Google Cloud Vision Cardinal Photosphere Images (Web Mapping Application)\n",
      "\t[12]: Web App - Google Cloud Vision Cardinal Photosphere Images (Code Attachment)\n",
      "\t[13]: Web App - Compare Azure with Google Vision Tagged Cardinal Photosphere Images (Web Mapping Application)\n",
      "\t[14]: GoogleCloudVisionFcCardinal (GeoJson)\n",
      "\t[15]: GoogleCloudVisionFcCardinal (Feature Service)\n"
     ]
    }
   ],
   "source": [
    "myitems = me.items(folder = workingfolder)\n",
    "print('Items in my working folder:')\n",
    "for i, item in enumerate(myitems):\n",
    "    print('\\t[{}]: {} ({})'.format(i, item['title'], item['type']))"
   ]
  },
  {
   "cell_type": "markdown",
   "metadata": {},
   "source": [
    "## **Processing cardinal images in ArcGIS online feature layer**\n",
    "---"
   ]
  },
  {
   "cell_type": "markdown",
   "metadata": {},
   "source": [
    "### **<font color = 'green'>Importing Cardinal Feature Collection GeoJSON to ArcGIS Online</font>**"
   ]
  },
  {
   "cell_type": "markdown",
   "metadata": {},
   "source": [
    "Defining the filename (stored in working directory)"
   ]
  },
  {
   "cell_type": "code",
   "execution_count": 42,
   "metadata": {},
   "outputs": [],
   "source": [
    "item_file = 'cardinalFeatureCollection.json'"
   ]
  },
  {
   "cell_type": "markdown",
   "metadata": {},
   "source": [
    "Defining item properties basic metadata for ArcGIS online layer"
   ]
  },
  {
   "cell_type": "code",
   "execution_count": 43,
   "metadata": {},
   "outputs": [],
   "source": [
    "item_properties = {\n",
    "    'title': 'Azure Cognitive Vision Cardinal Photospheres Feature Collection',\n",
    "    'tags': 'test, Azure Cognitive Vision, Machine Learning, Photospheres',\n",
    "    'snippet': 'Azure Cognitive Vision Feature Collection for Tagged Cardinal Photosphere Images',\n",
    "    'description': '<div style=\"text-align:Left;\"><div><div><p><span>This layer contains image analysis results from </span><span style=\"font-weight:bold;\"><font color=\"#008000\">Azure Cognitive Services Computer Vision</font> </span><span>API run, for the </span><span style=\"font-weight:bold;\"><font color=\"#b22222\">tagged cardinal images (8 directions, 1000x1000)</font> </span><span>image parts from photospheres. The layer includes (embeds) the tagged (annotated) images as attachments.</span></p></div></div></div>',\n",
    "    'licenseInfo': 'This is a test dataset only. Should not be used in production settings.',\n",
    "    'accessInformation': 'This is a test dataset with programming under development. If you have any questions, contact Dr. Kostas Alexandridis for further details: Kostas.Alexandridis@ocpw.ocgov.com, (714) 967-0826',\n",
    "    'type': 'GeoJson'\n",
    "    }\n",
    "thumb = 'geoJSON2.png'"
   ]
  },
  {
   "cell_type": "markdown",
   "metadata": {},
   "source": [
    "Uploading the GeoJSON file, and creating the basic GeoJSON Feature Service"
   ]
  },
  {
   "cell_type": "code",
   "execution_count": 101,
   "metadata": {},
   "outputs": [],
   "source": [
    "acvfs = gis.content.add(item_properties, thumbnail = thumb, data = item_file, folder = workingfolder['title'])"
   ]
  },
  {
   "cell_type": "markdown",
   "metadata": {},
   "source": [
    "Publishing the uploaded feature service (GeoJSON) into a new feature layer collection"
   ]
  },
  {
   "cell_type": "code",
   "execution_count": 102,
   "metadata": {},
   "outputs": [],
   "source": [
    "acvfsl = acvfs.publish()"
   ]
  },
  {
   "cell_type": "code",
   "execution_count": 130,
   "metadata": {},
   "outputs": [
    {
     "data": {
      "text/plain": [
       "[<Item title:\"Azure Cognitive Vision Cardinal Photospheres Feature Collection\" type:Feature Layer Collection owner:ktalexan>,\n",
       " <Item title:\"Azure Cognitive Vision Tagged Cardinal Photosphere Classification Analysis\" type:Feature Layer Collection owner:ktalexan>]"
      ]
     },
     "execution_count": 130,
     "metadata": {},
     "output_type": "execute_result"
    }
   ],
   "source": [
    "gis.content.search('Azure Cognitive Vision Cardinal Photospheres Feature Collection', 'Feature Layer')"
   ]
  },
  {
   "cell_type": "code",
   "execution_count": 131,
   "metadata": {},
   "outputs": [],
   "source": [
    "acvflc = gis.content.search('Azure Cognitive Vision Cardinal Photospheres Feature Collection', 'Feature Layer')[0]"
   ]
  },
  {
   "cell_type": "code",
   "execution_count": 132,
   "metadata": {},
   "outputs": [
    {
     "data": {
      "text/html": [
       "<div class=\"item_container\" style=\"height: auto; overflow: hidden; border: 1px solid #cfcfcf; border-radius: 2px; background: #f6fafa; line-height: 1.21429em; padding: 10px;\">\n",
       "                    <div class=\"item_left\" style=\"width: 210px; float: left;\">\n",
       "                       <a href='https://OCPW.maps.arcgis.com/home/item.html?id=3c0f268a845a4509b7223ca6d518a761' target='_blank'>\n",
       "                        <img src='data:image/png;base64,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' width='200' height='133' class=\"itemThumbnail\">\n",
       "                       </a>\n",
       "                    </div>\n",
       "\n",
       "                    <div class=\"item_right\"     style=\"float: none; width: auto; overflow: hidden;\">\n",
       "                        <a href='https://OCPW.maps.arcgis.com/home/item.html?id=3c0f268a845a4509b7223ca6d518a761' target='_blank'><b>Azure Cognitive Vision Cardinal Photospheres Feature Collection</b>\n",
       "                        </a>\n",
       "                        <br/>Azure Cognitive Vision Feature Collection for Tagged Cardinal Photosphere Images<img src='https://OCPW.maps.arcgis.com/home/js/jsapi/esri/css/images/item_type_icons/featureshosted16.png' style=\"vertical-align:middle;\">Feature Layer Collection by ktalexan\n",
       "                        <br/>Last Modified: April 08, 2019\n",
       "                        <br/>0 comments, 2 views\n",
       "                    </div>\n",
       "                </div>\n",
       "                "
      ],
      "text/plain": [
       "<Item title:\"Azure Cognitive Vision Cardinal Photospheres Feature Collection\" type:Feature Layer Collection owner:ktalexan>"
      ]
     },
     "execution_count": 132,
     "metadata": {},
     "output_type": "execute_result"
    }
   ],
   "source": [
    "acvflc"
   ]
  },
  {
   "cell_type": "markdown",
   "metadata": {},
   "source": [
    "Obtain the individual layer of the published feature layer collection"
   ]
  },
  {
   "cell_type": "code",
   "execution_count": 133,
   "metadata": {},
   "outputs": [],
   "source": [
    "acvfl = acvflc.layers[0]"
   ]
  },
  {
   "cell_type": "markdown",
   "metadata": {},
   "source": [
    "Query the initial capabilities of the layer"
   ]
  },
  {
   "cell_type": "code",
   "execution_count": 134,
   "metadata": {},
   "outputs": [
    {
     "data": {
      "text/plain": [
       "'Create,Delete,Query,Update,Editing'"
      ]
     },
     "execution_count": 134,
     "metadata": {},
     "output_type": "execute_result"
    }
   ],
   "source": [
    "acvfl.properties.capabilities"
   ]
  },
  {
   "cell_type": "markdown",
   "metadata": {},
   "source": [
    "Update the layer's capabilities (if the capabilities are not 'Create,Delete,Query,Update,Editing') to enable editing and other operations."
   ]
  },
  {
   "cell_type": "code",
   "execution_count": 123,
   "metadata": {},
   "outputs": [],
   "source": [
    "update_dict = {'capabilities': 'Create,Delete,Query,Update,Editing'}"
   ]
  },
  {
   "cell_type": "code",
   "execution_count": 124,
   "metadata": {},
   "outputs": [
    {
     "data": {
      "text/plain": [
       "{'success': True}"
      ]
     },
     "execution_count": 124,
     "metadata": {},
     "output_type": "execute_result"
    }
   ],
   "source": [
    "acvfl.manager.update_definition(update_dict)"
   ]
  },
  {
   "cell_type": "markdown",
   "metadata": {},
   "source": [
    ">Function: **add_lyr_attachments_from_blob**(*container, layer*)"
   ]
  },
  {
   "cell_type": "markdown",
   "metadata": {},
   "source": [
    "When this function is executed, it adds all 3,232 cardinal images as an attachment to the GeoJSON-based feature layer hosted in ArcGIS online. If needed, all attachments can be deleted."
   ]
  },
  {
   "cell_type": "code",
   "execution_count": 135,
   "metadata": {},
   "outputs": [],
   "source": [
    "def add_lyr_attachments_from_blob(container, layer):\n",
    "    \"\"\"Adding attachments to ArcGIS feature layer from Azure blob images\n",
    "    This function:\n",
    "        1. Gets the blob list (images) from a blob storage container in Azure.\n",
    "        2. For each of the blobs in the blob list, it obtains the image, and saves it\n",
    "            temporarily in the notebook's project directory. The reason for this is that\n",
    "            the Python API for adding attachments in a feature (hosted) layer only takes\n",
    "            filepath as an argument.\n",
    "        3. Performs a matching query, i.e., matching the cardinal image name from the\n",
    "            blob list with the feature (hosted) layer's record containing the image name,\n",
    "            and returning the ObjectId for that layer's table.\n",
    "        4. Finally, it uploads and adds the temporarily saved image as an attachment to\n",
    "            the record with the obtained ObjectId (OID).\n",
    "\n",
    "    Arguments\n",
    "        container: the name of the Azure blob storage container.\n",
    "        layer: the hosted feature layer in ArcGIS online\n",
    "\n",
    "    Output\n",
    "        Nothing. Just adds the blob images as attachments to the hosted ArcGIS online\n",
    "        feature layer.\n",
    "    \"\"\"\n",
    "    blobList = get_blob_list(container)\n",
    "    noblobs = len(blobList)\n",
    "    for blob in tqdm(blobList):\n",
    "        blobName = blob.name\n",
    "        content = blobService.get_blob_to_bytes(container, blobName).content\n",
    "        img = Image.open(io.BytesIO(content))\n",
    "        img.save(blobName, 'JPEG')\n",
    "        query = layer.query(where = \"Cardinal_Image_Name LIKE '{}'\".format(blobName), out_fields = 'ObjectId')\n",
    "        oid = query.features[0].attributes['ObjectId']\n",
    "        layer.attachments.add(oid, blobName)\n",
    "        os.remove(blobName)"
   ]
  },
  {
   "cell_type": "markdown",
   "metadata": {},
   "source": [
    "Add the attachments to the layer (run once only)"
   ]
  },
  {
   "cell_type": "code",
   "execution_count": 142,
   "metadata": {},
   "outputs": [
    {
     "name": "stderr",
     "output_type": "stream",
     "text": [
      "3232it [00:00, 807721.54it/s]\n",
      " 46%|████▌     | 1475/3232 [34:46<42:22,  1.45s/it]"
     ]
    },
    {
     "ename": "KeyboardInterrupt",
     "evalue": "",
     "output_type": "error",
     "traceback": [
      "\u001b[1;31m---------------------------------------------------------------------------\u001b[0m",
      "\u001b[1;31mKeyboardInterrupt\u001b[0m                         Traceback (most recent call last)",
      "\u001b[1;32m<ipython-input-142-5a688803024a>\u001b[0m in \u001b[0;36m<module>\u001b[1;34m\u001b[0m\n\u001b[1;32m----> 1\u001b[1;33m \u001b[0madd_lyr_attachments_from_blob\u001b[0m\u001b[1;33m(\u001b[0m\u001b[1;34m'cardinal'\u001b[0m\u001b[1;33m,\u001b[0m \u001b[0macvfl\u001b[0m\u001b[1;33m)\u001b[0m\u001b[1;33m\u001b[0m\u001b[1;33m\u001b[0m\u001b[0m\n\u001b[0m",
      "\u001b[1;32m<ipython-input-135-644ff02bd97e>\u001b[0m in \u001b[0;36madd_lyr_attachments_from_blob\u001b[1;34m(container, layer)\u001b[0m\n\u001b[0;32m     27\u001b[0m         \u001b[0mcontent\u001b[0m \u001b[1;33m=\u001b[0m \u001b[0mblobService\u001b[0m\u001b[1;33m.\u001b[0m\u001b[0mget_blob_to_bytes\u001b[0m\u001b[1;33m(\u001b[0m\u001b[0mcontainer\u001b[0m\u001b[1;33m,\u001b[0m \u001b[0mblobName\u001b[0m\u001b[1;33m)\u001b[0m\u001b[1;33m.\u001b[0m\u001b[0mcontent\u001b[0m\u001b[1;33m\u001b[0m\u001b[1;33m\u001b[0m\u001b[0m\n\u001b[0;32m     28\u001b[0m         \u001b[0mimg\u001b[0m \u001b[1;33m=\u001b[0m \u001b[0mImage\u001b[0m\u001b[1;33m.\u001b[0m\u001b[0mopen\u001b[0m\u001b[1;33m(\u001b[0m\u001b[0mio\u001b[0m\u001b[1;33m.\u001b[0m\u001b[0mBytesIO\u001b[0m\u001b[1;33m(\u001b[0m\u001b[0mcontent\u001b[0m\u001b[1;33m)\u001b[0m\u001b[1;33m)\u001b[0m\u001b[1;33m\u001b[0m\u001b[1;33m\u001b[0m\u001b[0m\n\u001b[1;32m---> 29\u001b[1;33m         \u001b[0mimg\u001b[0m\u001b[1;33m.\u001b[0m\u001b[0msave\u001b[0m\u001b[1;33m(\u001b[0m\u001b[0mblobName\u001b[0m\u001b[1;33m,\u001b[0m \u001b[1;34m'JPEG'\u001b[0m\u001b[1;33m)\u001b[0m\u001b[1;33m\u001b[0m\u001b[1;33m\u001b[0m\u001b[0m\n\u001b[0m\u001b[0;32m     30\u001b[0m         \u001b[0mquery\u001b[0m \u001b[1;33m=\u001b[0m \u001b[0mlayer\u001b[0m\u001b[1;33m.\u001b[0m\u001b[0mquery\u001b[0m\u001b[1;33m(\u001b[0m\u001b[0mwhere\u001b[0m \u001b[1;33m=\u001b[0m \u001b[1;34m\"Cardinal_Image_Name LIKE '{}'\"\u001b[0m\u001b[1;33m.\u001b[0m\u001b[0mformat\u001b[0m\u001b[1;33m(\u001b[0m\u001b[0mblobName\u001b[0m\u001b[1;33m)\u001b[0m\u001b[1;33m,\u001b[0m \u001b[0mout_fields\u001b[0m \u001b[1;33m=\u001b[0m \u001b[1;34m'ObjectId'\u001b[0m\u001b[1;33m)\u001b[0m\u001b[1;33m\u001b[0m\u001b[1;33m\u001b[0m\u001b[0m\n\u001b[0;32m     31\u001b[0m         \u001b[0moid\u001b[0m \u001b[1;33m=\u001b[0m \u001b[0mquery\u001b[0m\u001b[1;33m.\u001b[0m\u001b[0mfeatures\u001b[0m\u001b[1;33m[\u001b[0m\u001b[1;36m0\u001b[0m\u001b[1;33m]\u001b[0m\u001b[1;33m.\u001b[0m\u001b[0mattributes\u001b[0m\u001b[1;33m[\u001b[0m\u001b[1;34m'ObjectId'\u001b[0m\u001b[1;33m]\u001b[0m\u001b[1;33m\u001b[0m\u001b[1;33m\u001b[0m\u001b[0m\n",
      "\u001b[1;32m~\\AppData\\Local\\Continuum\\anaconda3\\lib\\site-packages\\PIL\\Image.py\u001b[0m in \u001b[0;36msave\u001b[1;34m(self, fp, format, **params)\u001b[0m\n\u001b[0;32m   1933\u001b[0m \u001b[1;33m\u001b[0m\u001b[0m\n\u001b[0;32m   1934\u001b[0m         \u001b[1;31m# may mutate self!\u001b[0m\u001b[1;33m\u001b[0m\u001b[1;33m\u001b[0m\u001b[1;33m\u001b[0m\u001b[0m\n\u001b[1;32m-> 1935\u001b[1;33m         \u001b[0mself\u001b[0m\u001b[1;33m.\u001b[0m\u001b[0mload\u001b[0m\u001b[1;33m(\u001b[0m\u001b[1;33m)\u001b[0m\u001b[1;33m\u001b[0m\u001b[1;33m\u001b[0m\u001b[0m\n\u001b[0m\u001b[0;32m   1936\u001b[0m \u001b[1;33m\u001b[0m\u001b[0m\n\u001b[0;32m   1937\u001b[0m         \u001b[0msave_all\u001b[0m \u001b[1;33m=\u001b[0m \u001b[0mparams\u001b[0m\u001b[1;33m.\u001b[0m\u001b[0mpop\u001b[0m\u001b[1;33m(\u001b[0m\u001b[1;34m'save_all'\u001b[0m\u001b[1;33m,\u001b[0m \u001b[1;32mFalse\u001b[0m\u001b[1;33m)\u001b[0m\u001b[1;33m\u001b[0m\u001b[1;33m\u001b[0m\u001b[0m\n",
      "\u001b[1;32m~\\AppData\\Local\\Continuum\\anaconda3\\lib\\site-packages\\PIL\\ImageFile.py\u001b[0m in \u001b[0;36mload\u001b[1;34m(self)\u001b[0m\n\u001b[0;32m    237\u001b[0m \u001b[1;33m\u001b[0m\u001b[0m\n\u001b[0;32m    238\u001b[0m                             \u001b[0mb\u001b[0m \u001b[1;33m=\u001b[0m \u001b[0mb\u001b[0m \u001b[1;33m+\u001b[0m \u001b[0ms\u001b[0m\u001b[1;33m\u001b[0m\u001b[1;33m\u001b[0m\u001b[0m\n\u001b[1;32m--> 239\u001b[1;33m                             \u001b[0mn\u001b[0m\u001b[1;33m,\u001b[0m \u001b[0merr_code\u001b[0m \u001b[1;33m=\u001b[0m \u001b[0mdecoder\u001b[0m\u001b[1;33m.\u001b[0m\u001b[0mdecode\u001b[0m\u001b[1;33m(\u001b[0m\u001b[0mb\u001b[0m\u001b[1;33m)\u001b[0m\u001b[1;33m\u001b[0m\u001b[1;33m\u001b[0m\u001b[0m\n\u001b[0m\u001b[0;32m    240\u001b[0m                             \u001b[1;32mif\u001b[0m \u001b[0mn\u001b[0m \u001b[1;33m<\u001b[0m \u001b[1;36m0\u001b[0m\u001b[1;33m:\u001b[0m\u001b[1;33m\u001b[0m\u001b[1;33m\u001b[0m\u001b[0m\n\u001b[0;32m    241\u001b[0m                                 \u001b[1;32mbreak\u001b[0m\u001b[1;33m\u001b[0m\u001b[1;33m\u001b[0m\u001b[0m\n",
      "\u001b[1;31mKeyboardInterrupt\u001b[0m: "
     ]
    }
   ],
   "source": [
    "add_lyr_attachments_from_blob('cardinal', acvfl)"
   ]
  },
  {
   "cell_type": "markdown",
   "metadata": {},
   "source": [
    "Let's query the feature set now"
   ]
  },
  {
   "cell_type": "code",
   "execution_count": 136,
   "metadata": {},
   "outputs": [],
   "source": [
    "acvfset = acvfl.query()"
   ]
  },
  {
   "cell_type": "markdown",
   "metadata": {},
   "source": [
    "Display the feature set as a panda (spatial) data frame"
   ]
  },
  {
   "cell_type": "code",
   "execution_count": 137,
   "metadata": {},
   "outputs": [
    {
     "data": {
      "text/html": [
       "<div>\n",
       "<style scoped>\n",
       "    .dataframe tbody tr th:only-of-type {\n",
       "        vertical-align: middle;\n",
       "    }\n",
       "\n",
       "    .dataframe tbody tr th {\n",
       "        vertical-align: top;\n",
       "    }\n",
       "\n",
       "    .dataframe thead th {\n",
       "        text-align: right;\n",
       "    }\n",
       "</style>\n",
       "<table border=\"1\" class=\"dataframe\">\n",
       "  <thead>\n",
       "    <tr style=\"text-align: right;\">\n",
       "      <th></th>\n",
       "      <th>Altitude</th>\n",
       "      <th>Caption</th>\n",
       "      <th>Caption_Confidence</th>\n",
       "      <th>Cardinal_Direction</th>\n",
       "      <th>Cardinal_Direction_Label</th>\n",
       "      <th>Cardinal_Image_Name</th>\n",
       "      <th>Cardinal_Image_URL</th>\n",
       "      <th>Cardinal_Number</th>\n",
       "      <th>Category_Detail_1</th>\n",
       "      <th>Category_Detail_2</th>\n",
       "      <th>...</th>\n",
       "      <th>x3</th>\n",
       "      <th>x4</th>\n",
       "      <th>x5</th>\n",
       "      <th>x6</th>\n",
       "      <th>y1</th>\n",
       "      <th>y2</th>\n",
       "      <th>y3</th>\n",
       "      <th>y4</th>\n",
       "      <th>y5</th>\n",
       "      <th>y6</th>\n",
       "    </tr>\n",
       "  </thead>\n",
       "  <tbody>\n",
       "    <tr>\n",
       "      <th>0</th>\n",
       "      <td>31.69103</td>\n",
       "      <td>a car driving down a street next to a tree</td>\n",
       "      <td>0.947685</td>\n",
       "      <td>354.51680</td>\n",
       "      <td>N</td>\n",
       "      <td>181204_174945407_1_N.jpg</td>\n",
       "      <td>https://azmlstorageblob.blob.core.windows.net/...</td>\n",
       "      <td>1</td>\n",
       "      <td>{'landmarks': []}</td>\n",
       "      <td>None</td>\n",
       "      <td>...</td>\n",
       "      <td>NaN</td>\n",
       "      <td>NaN</td>\n",
       "      <td>NaN</td>\n",
       "      <td>NaN</td>\n",
       "      <td>710.0</td>\n",
       "      <td>NaN</td>\n",
       "      <td>NaN</td>\n",
       "      <td>NaN</td>\n",
       "      <td>NaN</td>\n",
       "      <td>NaN</td>\n",
       "    </tr>\n",
       "    <tr>\n",
       "      <th>1</th>\n",
       "      <td>31.69103</td>\n",
       "      <td>a house that has a sign on the side of a road</td>\n",
       "      <td>0.947707</td>\n",
       "      <td>39.51682</td>\n",
       "      <td>NE</td>\n",
       "      <td>181204_174945407_2_NE.jpg</td>\n",
       "      <td>https://azmlstorageblob.blob.core.windows.net/...</td>\n",
       "      <td>2</td>\n",
       "      <td>{'landmarks': []}</td>\n",
       "      <td>{'landmarks': []}</td>\n",
       "      <td>...</td>\n",
       "      <td>NaN</td>\n",
       "      <td>NaN</td>\n",
       "      <td>NaN</td>\n",
       "      <td>NaN</td>\n",
       "      <td>710.0</td>\n",
       "      <td>NaN</td>\n",
       "      <td>NaN</td>\n",
       "      <td>NaN</td>\n",
       "      <td>NaN</td>\n",
       "      <td>NaN</td>\n",
       "    </tr>\n",
       "    <tr>\n",
       "      <th>2</th>\n",
       "      <td>31.69103</td>\n",
       "      <td>a car parked on the side of a building</td>\n",
       "      <td>0.925620</td>\n",
       "      <td>84.51682</td>\n",
       "      <td>E</td>\n",
       "      <td>181204_174945407_3_E.jpg</td>\n",
       "      <td>https://azmlstorageblob.blob.core.windows.net/...</td>\n",
       "      <td>3</td>\n",
       "      <td>{'landmarks': []}</td>\n",
       "      <td>{'landmarks': []}</td>\n",
       "      <td>...</td>\n",
       "      <td>NaN</td>\n",
       "      <td>NaN</td>\n",
       "      <td>NaN</td>\n",
       "      <td>NaN</td>\n",
       "      <td>612.0</td>\n",
       "      <td>NaN</td>\n",
       "      <td>NaN</td>\n",
       "      <td>NaN</td>\n",
       "      <td>NaN</td>\n",
       "      <td>NaN</td>\n",
       "    </tr>\n",
       "    <tr>\n",
       "      <th>3</th>\n",
       "      <td>31.69103</td>\n",
       "      <td>a group of palm trees</td>\n",
       "      <td>0.970518</td>\n",
       "      <td>129.51680</td>\n",
       "      <td>SE</td>\n",
       "      <td>181204_174945407_4_SE.jpg</td>\n",
       "      <td>https://azmlstorageblob.blob.core.windows.net/...</td>\n",
       "      <td>4</td>\n",
       "      <td>{'landmarks': []}</td>\n",
       "      <td>{'landmarks': []}</td>\n",
       "      <td>...</td>\n",
       "      <td>NaN</td>\n",
       "      <td>NaN</td>\n",
       "      <td>NaN</td>\n",
       "      <td>NaN</td>\n",
       "      <td>0.0</td>\n",
       "      <td>NaN</td>\n",
       "      <td>NaN</td>\n",
       "      <td>NaN</td>\n",
       "      <td>NaN</td>\n",
       "      <td>NaN</td>\n",
       "    </tr>\n",
       "    <tr>\n",
       "      <th>4</th>\n",
       "      <td>31.69103</td>\n",
       "      <td>a view of a city street</td>\n",
       "      <td>0.880143</td>\n",
       "      <td>174.51680</td>\n",
       "      <td>S</td>\n",
       "      <td>181204_174945407_5_S.jpg</td>\n",
       "      <td>https://azmlstorageblob.blob.core.windows.net/...</td>\n",
       "      <td>5</td>\n",
       "      <td>{'landmarks': []}</td>\n",
       "      <td>{'landmarks': []}</td>\n",
       "      <td>...</td>\n",
       "      <td>NaN</td>\n",
       "      <td>NaN</td>\n",
       "      <td>NaN</td>\n",
       "      <td>NaN</td>\n",
       "      <td>544.0</td>\n",
       "      <td>653.0</td>\n",
       "      <td>NaN</td>\n",
       "      <td>NaN</td>\n",
       "      <td>NaN</td>\n",
       "      <td>NaN</td>\n",
       "    </tr>\n",
       "  </tbody>\n",
       "</table>\n",
       "<p>5 rows × 210 columns</p>\n",
       "</div>"
      ],
      "text/plain": [
       "   Altitude                                        Caption  \\\n",
       "0  31.69103     a car driving down a street next to a tree   \n",
       "1  31.69103  a house that has a sign on the side of a road   \n",
       "2  31.69103         a car parked on the side of a building   \n",
       "3  31.69103                          a group of palm trees   \n",
       "4  31.69103                        a view of a city street   \n",
       "\n",
       "   Caption_Confidence  Cardinal_Direction Cardinal_Direction_Label  \\\n",
       "0            0.947685           354.51680                        N   \n",
       "1            0.947707            39.51682                       NE   \n",
       "2            0.925620            84.51682                        E   \n",
       "3            0.970518           129.51680                       SE   \n",
       "4            0.880143           174.51680                        S   \n",
       "\n",
       "         Cardinal_Image_Name  \\\n",
       "0   181204_174945407_1_N.jpg   \n",
       "1  181204_174945407_2_NE.jpg   \n",
       "2   181204_174945407_3_E.jpg   \n",
       "3  181204_174945407_4_SE.jpg   \n",
       "4   181204_174945407_5_S.jpg   \n",
       "\n",
       "                                  Cardinal_Image_URL  Cardinal_Number  \\\n",
       "0  https://azmlstorageblob.blob.core.windows.net/...                1   \n",
       "1  https://azmlstorageblob.blob.core.windows.net/...                2   \n",
       "2  https://azmlstorageblob.blob.core.windows.net/...                3   \n",
       "3  https://azmlstorageblob.blob.core.windows.net/...                4   \n",
       "4  https://azmlstorageblob.blob.core.windows.net/...                5   \n",
       "\n",
       "   Category_Detail_1  Category_Detail_2 ...  x3  x4  x5  x6     y1     y2  y3  \\\n",
       "0  {'landmarks': []}               None ... NaN NaN NaN NaN  710.0    NaN NaN   \n",
       "1  {'landmarks': []}  {'landmarks': []} ... NaN NaN NaN NaN  710.0    NaN NaN   \n",
       "2  {'landmarks': []}  {'landmarks': []} ... NaN NaN NaN NaN  612.0    NaN NaN   \n",
       "3  {'landmarks': []}  {'landmarks': []} ... NaN NaN NaN NaN    0.0    NaN NaN   \n",
       "4  {'landmarks': []}  {'landmarks': []} ... NaN NaN NaN NaN  544.0  653.0 NaN   \n",
       "\n",
       "   y4  y5  y6  \n",
       "0 NaN NaN NaN  \n",
       "1 NaN NaN NaN  \n",
       "2 NaN NaN NaN  \n",
       "3 NaN NaN NaN  \n",
       "4 NaN NaN NaN  \n",
       "\n",
       "[5 rows x 210 columns]"
      ]
     },
     "execution_count": 137,
     "metadata": {},
     "output_type": "execute_result"
    }
   ],
   "source": [
    "acvfset.sdf.head()"
   ]
  },
  {
   "cell_type": "markdown",
   "metadata": {},
   "source": [
    "Getting the features of the layer"
   ]
  },
  {
   "cell_type": "code",
   "execution_count": 138,
   "metadata": {},
   "outputs": [],
   "source": [
    "acvfeat = acvfset.features"
   ]
  },
  {
   "cell_type": "code",
   "execution_count": 139,
   "metadata": {},
   "outputs": [
    {
     "data": {
      "text/plain": [
       "1"
      ]
     },
     "execution_count": 139,
     "metadata": {},
     "output_type": "execute_result"
    }
   ],
   "source": [
    "acvfeat[0].attributes['ObjectId']"
   ]
  },
  {
   "cell_type": "markdown",
   "metadata": {},
   "source": [
    "Creating a copy of the features for updating"
   ]
  },
  {
   "cell_type": "code",
   "execution_count": 140,
   "metadata": {},
   "outputs": [],
   "source": [
    "rev_acvfeat = acvfeat"
   ]
  },
  {
   "cell_type": "markdown",
   "metadata": {},
   "source": [
    "Define the base URL for the feature layer"
   ]
  },
  {
   "cell_type": "code",
   "execution_count": 141,
   "metadata": {},
   "outputs": [],
   "source": [
    "baseUrl = acvfl.url"
   ]
  },
  {
   "cell_type": "markdown",
   "metadata": {},
   "source": [
    "Use the objectId (OID) and the attributeId (AID) to create a URL link for each attached image"
   ]
  },
  {
   "cell_type": "code",
   "execution_count": null,
   "metadata": {},
   "outputs": [],
   "source": [
    "acvfset."
   ]
  },
  {
   "cell_type": "code",
   "execution_count": null,
   "metadata": {},
   "outputs": [],
   "source": []
  }
 ],
 "metadata": {
  "kernelspec": {
   "display_name": "Python 3",
   "language": "python",
   "name": "python3"
  },
  "language_info": {
   "codemirror_mode": {
    "name": "ipython",
    "version": 3
   },
   "file_extension": ".py",
   "mimetype": "text/x-python",
   "name": "python",
   "nbconvert_exporter": "python",
   "pygments_lexer": "ipython3",
   "version": "3.7.1"
  }
 },
 "nbformat": 4,
 "nbformat_minor": 2
}
